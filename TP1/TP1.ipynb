{
 "cells": [
  {
   "cell_type": "markdown",
   "metadata": {},
   "source": [
    "# Trabajo Práctico 1"
   ]
  },
  {
   "cell_type": "code",
   "execution_count": 1,
   "metadata": {},
   "outputs": [],
   "source": [
    "import numpy as np\n",
    "import numpy.matlib\n",
    "import matplotlib.pyplot as plt\n",
    "import itertools\n",
    "import pandas as pd"
   ]
  },
  {
   "cell_type": "code",
   "execution_count": 2,
   "metadata": {},
   "outputs": [],
   "source": [
    "%matplotlib inline\n",
    "plt.rcParams['figure.figsize'] = (20.0, 10.0)"
   ]
  },
  {
   "cell_type": "markdown",
   "metadata": {},
   "source": [
    "## 1. Entrene una red de Hopfield ‘82 con un conjunto de imágenes binarias."
   ]
  },
  {
   "cell_type": "markdown",
   "metadata": {},
   "source": [
    "Se encuentran 2 tamaños distintos en las imágenes de prueba, por lo que se las subdivide en 2 grupos:\n",
    "* De tamaño 45x50\n",
    "* De tamaño 50x60"
   ]
  },
  {
   "cell_type": "code",
   "execution_count": 3,
   "metadata": {},
   "outputs": [],
   "source": [
    "ImageNames45x60=[\n",
    "  \"images/paloma.bmp\",\n",
    "  \"images/quijote.bmp\",\n",
    "  \"images/torero.bmp\",\n",
    "];\n",
    "\n",
    "ImageNames50x50=[  \n",
    "  \"images/panda.bmp\",\n",
    "  \"images/perro.bmp\", \n",
    "  \"images/v.bmp\"\n",
    "]"
   ]
  },
  {
   "cell_type": "code",
   "execution_count": 4,
   "metadata": {},
   "outputs": [
    {
     "data": {
      "image/png": "[encoded data removed]",
      "text/plain": [
       "<matplotlib.figure.Figure at 0x7f06376b31d0>"
      ]
     },
     "metadata": {},
     "output_type": "display_data"
    }
   ],
   "source": [
    "f, subplots = plt.subplots(1, 3)\n",
    "for path,splt in zip( ImageNames45x60, subplots):\n",
    "    splt.imshow(plt.imread(path))\n",
    "    splt.set_title(path)\n",
    "    splt.axis('off')"
   ]
  },
  {
   "cell_type": "code",
   "execution_count": 5,
   "metadata": {},
   "outputs": [
    {
     "data": {
      "image/png": "[encoded data removed]",
      "text/plain": [
       "<matplotlib.figure.Figure at 0x7f063510a7b8>"
      ]
     },
     "metadata": {},
     "output_type": "display_data"
    }
   ],
   "source": [
    "f, subplots = plt.subplots(1, 3)\n",
    "for path,splt in zip( ImageNames50x50, subplots):\n",
    "    splt.imshow(plt.imread(path))\n",
    "    splt.set_title(path)\n",
    "    splt.axis('off')"
   ]
  },
  {
   "cell_type": "code",
   "execution_count": 6,
   "metadata": {},
   "outputs": [],
   "source": [
    "# Definición de funciones auxiliares:"
   ]
  },
  {
   "cell_type": "code",
   "execution_count": 7,
   "metadata": {},
   "outputs": [],
   "source": [
    "def signo(val):\n",
    "  return (val >= 0)*2-1"
   ]
  },
  {
   "cell_type": "code",
   "execution_count": 8,
   "metadata": {},
   "outputs": [],
   "source": [
    "def hopfield(seed,w,N,M):\n",
    "    outVal = np.copy(seed);\n",
    "    iteration = 1;\n",
    "    changed = True;\n",
    "    while(changed):\n",
    "        changed = False;\n",
    "        for i in np.random.permutation(len(outVal)):\n",
    "            hi=signo(w[i,:].reshape(1,-1).dot(outVal))\n",
    "            changed |= (hi != outVal[i])\n",
    "            outVal[i]=hi\n",
    "    #PlotImage(plt.gca(),outVal.reshape(N,M))\n",
    "    return outVal"
   ]
  },
  {
   "cell_type": "code",
   "execution_count": 9,
   "metadata": {},
   "outputs": [],
   "source": [
    "def LoadImages(image_file_names):\n",
    "    #Carga de las Imagenes  \n",
    "    return [ (plt.imread(file_name)[:,:,0] / 255 * 2 -1 ).reshape(-1,1) for file_name in image_file_names]\n",
    "    #return np.squeeze( [ (plt.imread(file_name)[:,:,0] / 255 * 2 -1 ).reshape(-1,1) for file_name in image_file_names], axis=2 )"
   ]
  },
  {
   "cell_type": "code",
   "execution_count": 10,
   "metadata": {},
   "outputs": [],
   "source": [
    "def PlotImage(pobj,imgArray):\n",
    "    pobj.imshow(( imgArray >= 0 ).astype(\"double\"),cmap='gray')\n",
    "    #pobj.axis('off')\n",
    "    pobj.xaxis.set_ticks([])\n",
    "    pobj.yaxis.set_ticks([])\n",
    "    pobj.spines['top'].set_visible(False)\n",
    "    pobj.spines['right'].set_visible(False)\n",
    "    pobj.spines['bottom'].set_visible(False)\n",
    "    pobj.spines['left'].set_visible(False)"
   ]
  },
  {
   "cell_type": "code",
   "execution_count": 11,
   "metadata": {},
   "outputs": [],
   "source": [
    "def CalculateWeights(Images):\n",
    "    return np.sum( [ img.dot(img.transpose())-np.eye(len(img)) for img in Images ] , 0 )"
   ]
  },
  {
   "cell_type": "code",
   "execution_count": 12,
   "metadata": {},
   "outputs": [],
   "source": [
    "def AutoTest(SourceImages, TargetImages, W,N,M):\n",
    "    #chequeo si aprendio evaluando las mismas imagenes.\n",
    "    return [ np.all(hopfield(src,W,N,M) == tgt) for src,tgt in zip(SourceImages, TargetImages)]"
   ]
  },
  {
   "cell_type": "markdown",
   "metadata": {},
   "source": [
    "### a) Verifique si la red aprendió las imágenes enseñadas."
   ]
  },
  {
   "cell_type": "raw",
   "metadata": {},
   "source": [
    "Para los subconjuntos de imágenes se calcula la matriz de pesos.\n",
    "Luegos se coloca utiliza como entrada al algoritmo de hopfield a las mismas imágenes de entrenamiento y se determina si las salidas es idéntica se considera que la imagen fue aprendida."
   ]
  },
  {
   "cell_type": "code",
   "execution_count": 13,
   "metadata": {},
   "outputs": [],
   "source": [
    "def DoesLearn(ImageNames,h,w):\n",
    "    Images=LoadImages(ImageNames)\n",
    "    W=CalculateWeights(Images)\n",
    "    Learned=AutoTest(Images,Images,W,h,w)\n",
    "    #Pandas dataframe for table display\n",
    "    return pd.DataFrame([x for x in zip(ImageNames, Learned)],columns=[\"Image\",\"Learned\"]).set_index([\"Image\",])"
   ]
  },
  {
   "cell_type": "code",
   "execution_count": 14,
   "metadata": {},
   "outputs": [
    {
     "data": {
      "text/html": [
       "<div>\n",
       "<style scoped>\n",
       "    .dataframe tbody tr th:only-of-type {\n",
       "        vertical-align: middle;\n",
       "    }\n",
       "\n",
       "    .dataframe tbody tr th {\n",
       "        vertical-align: top;\n",
       "    }\n",
       "\n",
       "    .dataframe thead th {\n",
       "        text-align: right;\n",
       "    }\n",
       "</style>\n",
       "<table border=\"1\" class=\"dataframe\">\n",
       "  <thead>\n",
       "    <tr style=\"text-align: right;\">\n",
       "      <th></th>\n",
       "      <th>Learned</th>\n",
       "    </tr>\n",
       "    <tr>\n",
       "      <th>Image</th>\n",
       "      <th></th>\n",
       "    </tr>\n",
       "  </thead>\n",
       "  <tbody>\n",
       "    <tr>\n",
       "      <th>images/paloma.bmp</th>\n",
       "      <td>True</td>\n",
       "    </tr>\n",
       "    <tr>\n",
       "      <th>images/quijote.bmp</th>\n",
       "      <td>True</td>\n",
       "    </tr>\n",
       "    <tr>\n",
       "      <th>images/torero.bmp</th>\n",
       "      <td>True</td>\n",
       "    </tr>\n",
       "  </tbody>\n",
       "</table>\n",
       "</div>"
      ],
      "text/plain": [
       "                    Learned\n",
       "Image                      \n",
       "images/paloma.bmp      True\n",
       "images/quijote.bmp     True\n",
       "images/torero.bmp      True"
      ]
     },
     "execution_count": 14,
     "metadata": {},
     "output_type": "execute_result"
    }
   ],
   "source": [
    "DoesLearn(ImageNames45x60,45,60)"
   ]
  },
  {
   "cell_type": "code",
   "execution_count": 15,
   "metadata": {},
   "outputs": [
    {
     "data": {
      "text/html": [
       "<div>\n",
       "<style scoped>\n",
       "    .dataframe tbody tr th:only-of-type {\n",
       "        vertical-align: middle;\n",
       "    }\n",
       "\n",
       "    .dataframe tbody tr th {\n",
       "        vertical-align: top;\n",
       "    }\n",
       "\n",
       "    .dataframe thead th {\n",
       "        text-align: right;\n",
       "    }\n",
       "</style>\n",
       "<table border=\"1\" class=\"dataframe\">\n",
       "  <thead>\n",
       "    <tr style=\"text-align: right;\">\n",
       "      <th></th>\n",
       "      <th>Learned</th>\n",
       "    </tr>\n",
       "    <tr>\n",
       "      <th>Image</th>\n",
       "      <th></th>\n",
       "    </tr>\n",
       "  </thead>\n",
       "  <tbody>\n",
       "    <tr>\n",
       "      <th>images/panda.bmp</th>\n",
       "      <td>True</td>\n",
       "    </tr>\n",
       "    <tr>\n",
       "      <th>images/perro.bmp</th>\n",
       "      <td>True</td>\n",
       "    </tr>\n",
       "    <tr>\n",
       "      <th>images/v.bmp</th>\n",
       "      <td>True</td>\n",
       "    </tr>\n",
       "  </tbody>\n",
       "</table>\n",
       "</div>"
      ],
      "text/plain": [
       "                  Learned\n",
       "Image                    \n",
       "images/panda.bmp     True\n",
       "images/perro.bmp     True\n",
       "images/v.bmp         True"
      ]
     },
     "execution_count": 15,
     "metadata": {},
     "output_type": "execute_result"
    }
   ],
   "source": [
    "DoesLearn(ImageNames50x50,50,50)"
   ]
  },
  {
   "cell_type": "markdown",
   "metadata": {},
   "source": [
    "Se verifica que se aprendieron ambos grupos de 3 imágenes."
   ]
  },
  {
   "cell_type": "markdown",
   "metadata": {},
   "source": [
    "### b) Evalúe la evolución de la red al presentarle versiones alteradas de las imágenes aprendidas: agregado de ruido, elementos borrados o agregados."
   ]
  },
  {
   "cell_type": "markdown",
   "metadata": {},
   "source": [
    "#### Ruido\n",
    "Se le agrega ruido digital a las imágenes. Invirtiendo cada pixel de la imágen con una probabilidad *p*"
   ]
  },
  {
   "cell_type": "code",
   "execution_count": 16,
   "metadata": {},
   "outputs": [],
   "source": [
    "def AddNoise(image,level):\n",
    "    return image * (( np.random.rand(* image.shape) > level ).astype(np.int32) * 2 - 1);"
   ]
  },
  {
   "cell_type": "code",
   "execution_count": 17,
   "metadata": {},
   "outputs": [],
   "source": [
    "def TestNoise(ImageNames,N,M):\n",
    "    Images=LoadImages(ImageNames)\n",
    "    W=CalculateWeights(Images)\n",
    "            \n",
    "    levels=[0.01, 0.05, 0.1, 0.2, 0.3, 0.4, 0.5]    \n",
    "    #f, subplots = plt.subplots(len(levels), len(ImageNames))\n",
    "    \n",
    "    df = pd.DataFrame(columns=[\"Image\"]+levels)\n",
    "    df[\"Image\"]=ImageNames\n",
    "    \n",
    "    #for lvl,pltRow in zip(levels,subplots):\n",
    "    for lvl in levels:\n",
    "        ImagesWithNoise = [ AddNoise(image,lvl) for image in Images ]\n",
    "        f, pltRow = plt.subplots(1, len(ImageNames))\n",
    "        \n",
    "        for image,pltobj in zip(ImagesWithNoise,pltRow):\n",
    "            PlotImage(pltobj,image.reshape(N,M))\n",
    "        pltRow[0].set_ylabel(\"p=%.2g\" % lvl)\n",
    "        \n",
    "        \n",
    "        df[lvl] = AutoTest(ImagesWithNoise,Images,W,N,M)\n",
    "        \n",
    "    \n",
    "    return df.set_index([\"Image\",])"
   ]
  },
  {
   "cell_type": "code",
   "execution_count": 18,
   "metadata": {},
   "outputs": [
    {
     "data": {
      "text/html": [
       "<div>\n",
       "<style scoped>\n",
       "    .dataframe tbody tr th:only-of-type {\n",
       "        vertical-align: middle;\n",
       "    }\n",
       "\n",
       "    .dataframe tbody tr th {\n",
       "        vertical-align: top;\n",
       "    }\n",
       "\n",
       "    .dataframe thead th {\n",
       "        text-align: right;\n",
       "    }\n",
       "</style>\n",
       "<table border=\"1\" class=\"dataframe\">\n",
       "  <thead>\n",
       "    <tr style=\"text-align: right;\">\n",
       "      <th></th>\n",
       "      <th>0.01</th>\n",
       "      <th>0.05</th>\n",
       "      <th>0.1</th>\n",
       "      <th>0.2</th>\n",
       "      <th>0.3</th>\n",
       "      <th>0.4</th>\n",
       "      <th>0.5</th>\n",
       "    </tr>\n",
       "    <tr>\n",
       "      <th>Image</th>\n",
       "      <th></th>\n",
       "      <th></th>\n",
       "      <th></th>\n",
       "      <th></th>\n",
       "      <th></th>\n",
       "      <th></th>\n",
       "      <th></th>\n",
       "    </tr>\n",
       "  </thead>\n",
       "  <tbody>\n",
       "    <tr>\n",
       "      <th>images/paloma.bmp</th>\n",
       "      <td>True</td>\n",
       "      <td>True</td>\n",
       "      <td>True</td>\n",
       "      <td>True</td>\n",
       "      <td>True</td>\n",
       "      <td>True</td>\n",
       "      <td>False</td>\n",
       "    </tr>\n",
       "    <tr>\n",
       "      <th>images/quijote.bmp</th>\n",
       "      <td>True</td>\n",
       "      <td>True</td>\n",
       "      <td>True</td>\n",
       "      <td>True</td>\n",
       "      <td>True</td>\n",
       "      <td>True</td>\n",
       "      <td>False</td>\n",
       "    </tr>\n",
       "    <tr>\n",
       "      <th>images/torero.bmp</th>\n",
       "      <td>True</td>\n",
       "      <td>True</td>\n",
       "      <td>True</td>\n",
       "      <td>True</td>\n",
       "      <td>True</td>\n",
       "      <td>True</td>\n",
       "      <td>False</td>\n",
       "    </tr>\n",
       "  </tbody>\n",
       "</table>\n",
       "</div>"
      ],
      "text/plain": [
       "                    0.01  0.05  0.10  0.20  0.30  0.40   0.50\n",
       "Image                                                        \n",
       "images/paloma.bmp   True  True  True  True  True  True  False\n",
       "images/quijote.bmp  True  True  True  True  True  True  False\n",
       "images/torero.bmp   True  True  True  True  True  True  False"
      ]
     },
     "execution_count": 18,
     "metadata": {},
     "output_type": "execute_result"
    },
    {
     "data": {
      "image/png": "[encoded data removed]",
      "text/plain": [
       "<matplotlib.figure.Figure at 0x7f0634af32e8>"
      ]
     },
     "metadata": {},
     "output_type": "display_data"
    },
    {
     "data": {
      "image/png": "[encoded data removed]",
      "text/plain": [
       "<matplotlib.figure.Figure at 0x7f06348186a0>"
      ]
     },
     "metadata": {},
     "output_type": "display_data"
    },
    {
     "data": {
      "image/png": "[encoded data removed]",
      "text/plain": [
       "<matplotlib.figure.Figure at 0x7f06347c7978>"
      ]
     },
     "metadata": {},
     "output_type": "display_data"
    },
    {
     "data": {
      "image/png": "[encoded data removed]",
      "text/plain": [
       "<matplotlib.figure.Figure at 0x7f06351143c8>"
      ]
     },
     "metadata": {},
     "output_type": "display_data"
    },
    {
     "data": {
      "image/png": "[encoded data removed]",
      "text/plain": [
       "<matplotlib.figure.Figure at 0x7f06356a9f60>"
      ]
     },
     "metadata": {},
     "output_type": "display_data"
    },
    {
     "data": {
      "image/png": "[encoded data removed]",
      "text/plain": [
       "<matplotlib.figure.Figure at 0x7f063552c390>"
      ]
     },
     "metadata": {},
     "output_type": "display_data"
    },
    {
     "data": {
      "image/png": "[encoded data removed]",
      "text/plain": [
       "<matplotlib.figure.Figure at 0x7f0635450cc0>"
      ]
     },
     "metadata": {},
     "output_type": "display_data"
    }
   ],
   "source": [
    "TestNoise(ImageNames45x60,45,60)"
   ]
  },
  {
   "cell_type": "code",
   "execution_count": 19,
   "metadata": {},
   "outputs": [
    {
     "data": {
      "text/html": [
       "<div>\n",
       "<style scoped>\n",
       "    .dataframe tbody tr th:only-of-type {\n",
       "        vertical-align: middle;\n",
       "    }\n",
       "\n",
       "    .dataframe tbody tr th {\n",
       "        vertical-align: top;\n",
       "    }\n",
       "\n",
       "    .dataframe thead th {\n",
       "        text-align: right;\n",
       "    }\n",
       "</style>\n",
       "<table border=\"1\" class=\"dataframe\">\n",
       "  <thead>\n",
       "    <tr style=\"text-align: right;\">\n",
       "      <th></th>\n",
       "      <th>0.01</th>\n",
       "      <th>0.05</th>\n",
       "      <th>0.1</th>\n",
       "      <th>0.2</th>\n",
       "      <th>0.3</th>\n",
       "      <th>0.4</th>\n",
       "      <th>0.5</th>\n",
       "    </tr>\n",
       "    <tr>\n",
       "      <th>Image</th>\n",
       "      <th></th>\n",
       "      <th></th>\n",
       "      <th></th>\n",
       "      <th></th>\n",
       "      <th></th>\n",
       "      <th></th>\n",
       "      <th></th>\n",
       "    </tr>\n",
       "  </thead>\n",
       "  <tbody>\n",
       "    <tr>\n",
       "      <th>images/panda.bmp</th>\n",
       "      <td>True</td>\n",
       "      <td>True</td>\n",
       "      <td>True</td>\n",
       "      <td>True</td>\n",
       "      <td>True</td>\n",
       "      <td>True</td>\n",
       "      <td>False</td>\n",
       "    </tr>\n",
       "    <tr>\n",
       "      <th>images/perro.bmp</th>\n",
       "      <td>True</td>\n",
       "      <td>True</td>\n",
       "      <td>True</td>\n",
       "      <td>True</td>\n",
       "      <td>True</td>\n",
       "      <td>True</td>\n",
       "      <td>False</td>\n",
       "    </tr>\n",
       "    <tr>\n",
       "      <th>images/v.bmp</th>\n",
       "      <td>True</td>\n",
       "      <td>True</td>\n",
       "      <td>True</td>\n",
       "      <td>True</td>\n",
       "      <td>True</td>\n",
       "      <td>True</td>\n",
       "      <td>True</td>\n",
       "    </tr>\n",
       "  </tbody>\n",
       "</table>\n",
       "</div>"
      ],
      "text/plain": [
       "                  0.01  0.05  0.10  0.20  0.30  0.40   0.50\n",
       "Image                                                      \n",
       "images/panda.bmp  True  True  True  True  True  True  False\n",
       "images/perro.bmp  True  True  True  True  True  True  False\n",
       "images/v.bmp      True  True  True  True  True  True   True"
      ]
     },
     "execution_count": 19,
     "metadata": {},
     "output_type": "execute_result"
    },
    {
     "data": {
      "image/png": "[encoded data removed]",
      "text/plain": [
       "<matplotlib.figure.Figure at 0x7f06353f1710>"
      ]
     },
     "metadata": {},
     "output_type": "display_data"
    },
    {
     "data": {
      "image/png": "[encoded data removed]",
      "text/plain": [
       "<matplotlib.figure.Figure at 0x7f0635284358>"
      ]
     },
     "metadata": {},
     "output_type": "display_data"
    },
    {
     "data": {
      "image/png": "[encoded data removed]",
      "text/plain": [
       "<matplotlib.figure.Figure at 0x7f063522ae10>"
      ]
     },
     "metadata": {},
     "output_type": "display_data"
    },
    {
     "data": {
      "image/png": "[encoded data removed]",
      "text/plain": [
       "<matplotlib.figure.Figure at 0x7f0635067550>"
      ]
     },
     "metadata": {},
     "output_type": "display_data"
    },
    {
     "data": {
      "image/png": "[encoded data removed]",
      "text/plain": [
       "<matplotlib.figure.Figure at 0x7f0634ff9470>"
      ]
     },
     "metadata": {},
     "output_type": "display_data"
    },
    {
     "data": {
      "image/png": "[encoded data removed]",
      "text/plain": [
       "<matplotlib.figure.Figure at 0x7f06346649e8>"
      ]
     },
     "metadata": {},
     "output_type": "display_data"
    },
    {
     "data": {
      "image/png": "[encoded data removed]",
      "text/plain": [
       "<matplotlib.figure.Figure at 0x7f0634616278>"
      ]
     },
     "metadata": {},
     "output_type": "display_data"
    }
   ],
   "source": [
    "TestNoise(ImageNames50x50,50,50)"
   ]
  },
  {
   "cell_type": "markdown",
   "metadata": {},
   "source": [
    "Repetidos ensayos mostraron que para 3 imágenes el algoritmo es robusto a ruido digital hasta p=0.4. Con p=0.5 el algoritmo converje a la imagen equivocada más frecuentemente de lo que acierta. Para p > 0.5 el atractor cambia a la imágen inversa."
   ]
  },
  {
   "cell_type": "markdown",
   "metadata": {},
   "source": [
    "#### Máscaras\n",
    "\n",
    "Se ensayaron máscaras rectangulares que cubren distintos porcentajes de las imágenes de prueba, y se las usó como entrada en el algoritmpo de Hopfield."
   ]
  },
  {
   "cell_type": "code",
   "execution_count": 20,
   "metadata": {},
   "outputs": [],
   "source": [
    "def CreateMask(N,M,lvl):\n",
    "    mask=np.zeros([N,M])\n",
    "    mask[0:int(np.floor(N*lvl)),0:int(np.floor(M*lvl))]=1\n",
    "    return mask"
   ]
  },
  {
   "cell_type": "code",
   "execution_count": 21,
   "metadata": {},
   "outputs": [],
   "source": [
    "def MaskImages(Images,N,M,lvl):\n",
    "    mask=CreateMask(N,M,lvl).reshape(-1,1)\n",
    "    return [ ((image + mask) >= 0 ).astype(np.int32) * 2 - 1 for image in Images  ]"
   ]
  },
  {
   "cell_type": "code",
   "execution_count": 22,
   "metadata": {},
   "outputs": [],
   "source": [
    "def TestMasked(ImageNames,N,M):\n",
    "    Images=LoadImages(ImageNames)\n",
    "    W=CalculateWeights(Images)\n",
    "    \n",
    "    levels = np.arange(0.2,0.8,0.2)\n",
    "    \n",
    "    df = pd.DataFrame(columns=[\"Image\"]+list(levels))\n",
    "    df[\"Image\"]=ImageNames\n",
    "    \n",
    "    for lvl in levels:\n",
    "        MaskedImages = MaskImages(Images,N,M,lvl)\n",
    "        \n",
    "        f, pltRow = plt.subplots(1, len(ImageNames))\n",
    "        for image,pltobj in zip(MaskedImages,pltRow):\n",
    "            PlotImage(pltobj,image.reshape(N,M))\n",
    "        pltRow[0].set_ylabel(\"masked=%.2g\" % lvl)\n",
    "        \n",
    "        df[lvl] = AutoTest(MaskedImages,Images,W,N,M)\n",
    "        \n",
    "    return df.set_index([\"Image\",])"
   ]
  },
  {
   "cell_type": "code",
   "execution_count": 23,
   "metadata": {},
   "outputs": [
    {
     "data": {
      "text/html": [
       "<div>\n",
       "<style scoped>\n",
       "    .dataframe tbody tr th:only-of-type {\n",
       "        vertical-align: middle;\n",
       "    }\n",
       "\n",
       "    .dataframe tbody tr th {\n",
       "        vertical-align: top;\n",
       "    }\n",
       "\n",
       "    .dataframe thead th {\n",
       "        text-align: right;\n",
       "    }\n",
       "</style>\n",
       "<table border=\"1\" class=\"dataframe\">\n",
       "  <thead>\n",
       "    <tr style=\"text-align: right;\">\n",
       "      <th></th>\n",
       "      <th>0.2</th>\n",
       "      <th>0.4</th>\n",
       "      <th>0.6</th>\n",
       "      <th>0.8</th>\n",
       "    </tr>\n",
       "    <tr>\n",
       "      <th>Image</th>\n",
       "      <th></th>\n",
       "      <th></th>\n",
       "      <th></th>\n",
       "      <th></th>\n",
       "    </tr>\n",
       "  </thead>\n",
       "  <tbody>\n",
       "    <tr>\n",
       "      <th>images/paloma.bmp</th>\n",
       "      <td>True</td>\n",
       "      <td>True</td>\n",
       "      <td>True</td>\n",
       "      <td>True</td>\n",
       "    </tr>\n",
       "    <tr>\n",
       "      <th>images/quijote.bmp</th>\n",
       "      <td>True</td>\n",
       "      <td>True</td>\n",
       "      <td>False</td>\n",
       "      <td>False</td>\n",
       "    </tr>\n",
       "    <tr>\n",
       "      <th>images/torero.bmp</th>\n",
       "      <td>True</td>\n",
       "      <td>True</td>\n",
       "      <td>True</td>\n",
       "      <td>False</td>\n",
       "    </tr>\n",
       "  </tbody>\n",
       "</table>\n",
       "</div>"
      ],
      "text/plain": [
       "                     0.2   0.4    0.6    0.8\n",
       "Image                                       \n",
       "images/paloma.bmp   True  True   True   True\n",
       "images/quijote.bmp  True  True  False  False\n",
       "images/torero.bmp   True  True   True  False"
      ]
     },
     "execution_count": 23,
     "metadata": {},
     "output_type": "execute_result"
    },
    {
     "data": {
      "image/png": "[encoded data removed]",
      "text/plain": [
       "<matplotlib.figure.Figure at 0x7f06345067f0>"
      ]
     },
     "metadata": {},
     "output_type": "display_data"
    },
    {
     "data": {
      "image/png": "[encoded data removed]",
      "text/plain": [
       "<matplotlib.figure.Figure at 0x7f063441dd30>"
      ]
     },
     "metadata": {},
     "output_type": "display_data"
    },
    {
     "data": {
      "image/png": "[encoded data removed]",
      "text/plain": [
       "<matplotlib.figure.Figure at 0x7f06351cae10>"
      ]
     },
     "metadata": {},
     "output_type": "display_data"
    },
    {
     "data": {
      "image/png": "[encoded data removed]",
      "text/plain": [
       "<matplotlib.figure.Figure at 0x7f06356a1ac8>"
      ]
     },
     "metadata": {},
     "output_type": "display_data"
    }
   ],
   "source": [
    "TestMasked(ImageNames45x60,45,60)"
   ]
  },
  {
   "cell_type": "code",
   "execution_count": 24,
   "metadata": {},
   "outputs": [
    {
     "data": {
      "text/html": [
       "<div>\n",
       "<style scoped>\n",
       "    .dataframe tbody tr th:only-of-type {\n",
       "        vertical-align: middle;\n",
       "    }\n",
       "\n",
       "    .dataframe tbody tr th {\n",
       "        vertical-align: top;\n",
       "    }\n",
       "\n",
       "    .dataframe thead th {\n",
       "        text-align: right;\n",
       "    }\n",
       "</style>\n",
       "<table border=\"1\" class=\"dataframe\">\n",
       "  <thead>\n",
       "    <tr style=\"text-align: right;\">\n",
       "      <th></th>\n",
       "      <th>0.2</th>\n",
       "      <th>0.4</th>\n",
       "      <th>0.6</th>\n",
       "      <th>0.8</th>\n",
       "    </tr>\n",
       "    <tr>\n",
       "      <th>Image</th>\n",
       "      <th></th>\n",
       "      <th></th>\n",
       "      <th></th>\n",
       "      <th></th>\n",
       "    </tr>\n",
       "  </thead>\n",
       "  <tbody>\n",
       "    <tr>\n",
       "      <th>images/panda.bmp</th>\n",
       "      <td>True</td>\n",
       "      <td>True</td>\n",
       "      <td>True</td>\n",
       "      <td>True</td>\n",
       "    </tr>\n",
       "    <tr>\n",
       "      <th>images/perro.bmp</th>\n",
       "      <td>True</td>\n",
       "      <td>True</td>\n",
       "      <td>True</td>\n",
       "      <td>True</td>\n",
       "    </tr>\n",
       "    <tr>\n",
       "      <th>images/v.bmp</th>\n",
       "      <td>True</td>\n",
       "      <td>True</td>\n",
       "      <td>True</td>\n",
       "      <td>False</td>\n",
       "    </tr>\n",
       "  </tbody>\n",
       "</table>\n",
       "</div>"
      ],
      "text/plain": [
       "                   0.2   0.4   0.6    0.8\n",
       "Image                                    \n",
       "images/panda.bmp  True  True  True   True\n",
       "images/perro.bmp  True  True  True   True\n",
       "images/v.bmp      True  True  True  False"
      ]
     },
     "execution_count": 24,
     "metadata": {},
     "output_type": "execute_result"
    },
    {
     "data": {
      "image/png": "[encoded data removed]",
      "text/plain": [
       "<matplotlib.figure.Figure at 0x7f0634506b38>"
      ]
     },
     "metadata": {},
     "output_type": "display_data"
    },
    {
     "data": {
      "image/png": "[encoded data removed]",
      "text/plain": [
       "<matplotlib.figure.Figure at 0x7f0634547ef0>"
      ]
     },
     "metadata": {},
     "output_type": "display_data"
    },
    {
     "data": {
      "image/png": "[encoded data removed]",
      "text/plain": [
       "<matplotlib.figure.Figure at 0x7f06353c87b8>"
      ]
     },
     "metadata": {},
     "output_type": "display_data"
    },
    {
     "data": {
      "image/png": "[encoded data removed]",
      "text/plain": [
       "<matplotlib.figure.Figure at 0x7f0635295940>"
      ]
     },
     "metadata": {},
     "output_type": "display_data"
    }
   ],
   "source": [
    "TestMasked(ImageNames50x50,50,50)"
   ]
  },
  {
   "cell_type": "markdown",
   "metadata": {},
   "source": [
    "Se observa que el algoritmo tolera máscaras que cubren hasta el 60% de la imágen, pero cuando cubre el 80% algunas imágenes comienzan a fallar."
   ]
  },
  {
   "cell_type": "markdown",
   "metadata": {},
   "source": [
    "### c) Evalúe la existencia de estados espurios en la red: patrones inversos y combinaciones de un número impar de patrones. *(Ver Spurious States, en la sección 2.2, Hertz, Krogh & Palmer, pág. 24)*."
   ]
  },
  {
   "cell_type": "markdown",
   "metadata": {},
   "source": [
    "Validación de los poatrones negativos:"
   ]
  },
  {
   "cell_type": "code",
   "execution_count": 25,
   "metadata": {},
   "outputs": [],
   "source": [
    "def DoesLearnNegative(ImageNames,h,w):\n",
    "    Images=LoadImages(ImageNames)\n",
    "    W=CalculateWeights(Images)\n",
    "    \n",
    "    negatives=[ -1*image for image in Images]\n",
    "    \n",
    "    f, pltRow = plt.subplots(1, len(ImageNames))\n",
    "    for image,pltobj in zip(negatives,pltRow):\n",
    "        PlotImage(pltobj,image.reshape(h,w))\n",
    "        \n",
    "    Learned=AutoTest(negatives ,negatives,W,h,w)\n",
    "    #Pandas dataframe for table display\n",
    "    return pd.DataFrame([x for x in zip(ImageNames, Learned)],columns=[\"Image\",\"Learned\"]).set_index([\"Image\",])"
   ]
  },
  {
   "cell_type": "code",
   "execution_count": 26,
   "metadata": {},
   "outputs": [
    {
     "data": {
      "text/html": [
       "<div>\n",
       "<style scoped>\n",
       "    .dataframe tbody tr th:only-of-type {\n",
       "        vertical-align: middle;\n",
       "    }\n",
       "\n",
       "    .dataframe tbody tr th {\n",
       "        vertical-align: top;\n",
       "    }\n",
       "\n",
       "    .dataframe thead th {\n",
       "        text-align: right;\n",
       "    }\n",
       "</style>\n",
       "<table border=\"1\" class=\"dataframe\">\n",
       "  <thead>\n",
       "    <tr style=\"text-align: right;\">\n",
       "      <th></th>\n",
       "      <th>Learned</th>\n",
       "    </tr>\n",
       "    <tr>\n",
       "      <th>Image</th>\n",
       "      <th></th>\n",
       "    </tr>\n",
       "  </thead>\n",
       "  <tbody>\n",
       "    <tr>\n",
       "      <th>images/paloma.bmp</th>\n",
       "      <td>True</td>\n",
       "    </tr>\n",
       "    <tr>\n",
       "      <th>images/quijote.bmp</th>\n",
       "      <td>True</td>\n",
       "    </tr>\n",
       "    <tr>\n",
       "      <th>images/torero.bmp</th>\n",
       "      <td>True</td>\n",
       "    </tr>\n",
       "  </tbody>\n",
       "</table>\n",
       "</div>"
      ],
      "text/plain": [
       "                    Learned\n",
       "Image                      \n",
       "images/paloma.bmp      True\n",
       "images/quijote.bmp     True\n",
       "images/torero.bmp      True"
      ]
     },
     "execution_count": 26,
     "metadata": {},
     "output_type": "execute_result"
    },
    {
     "data": {
      "image/png": "[encoded data removed]",
      "text/plain": [
       "<matplotlib.figure.Figure at 0x7f0634fae8d0>"
      ]
     },
     "metadata": {},
     "output_type": "display_data"
    }
   ],
   "source": [
    "DoesLearnNegative(ImageNames45x60,45,60)"
   ]
  },
  {
   "cell_type": "code",
   "execution_count": 27,
   "metadata": {},
   "outputs": [
    {
     "data": {
      "text/html": [
       "<div>\n",
       "<style scoped>\n",
       "    .dataframe tbody tr th:only-of-type {\n",
       "        vertical-align: middle;\n",
       "    }\n",
       "\n",
       "    .dataframe tbody tr th {\n",
       "        vertical-align: top;\n",
       "    }\n",
       "\n",
       "    .dataframe thead th {\n",
       "        text-align: right;\n",
       "    }\n",
       "</style>\n",
       "<table border=\"1\" class=\"dataframe\">\n",
       "  <thead>\n",
       "    <tr style=\"text-align: right;\">\n",
       "      <th></th>\n",
       "      <th>Learned</th>\n",
       "    </tr>\n",
       "    <tr>\n",
       "      <th>Image</th>\n",
       "      <th></th>\n",
       "    </tr>\n",
       "  </thead>\n",
       "  <tbody>\n",
       "    <tr>\n",
       "      <th>images/panda.bmp</th>\n",
       "      <td>True</td>\n",
       "    </tr>\n",
       "    <tr>\n",
       "      <th>images/perro.bmp</th>\n",
       "      <td>True</td>\n",
       "    </tr>\n",
       "    <tr>\n",
       "      <th>images/v.bmp</th>\n",
       "      <td>True</td>\n",
       "    </tr>\n",
       "  </tbody>\n",
       "</table>\n",
       "</div>"
      ],
      "text/plain": [
       "                  Learned\n",
       "Image                    \n",
       "images/panda.bmp     True\n",
       "images/perro.bmp     True\n",
       "images/v.bmp         True"
      ]
     },
     "execution_count": 27,
     "metadata": {},
     "output_type": "execute_result"
    },
    {
     "data": {
      "image/png": "[encoded data removed]",
      "text/plain": [
       "<matplotlib.figure.Figure at 0x7f06352c0f28>"
      ]
     },
     "metadata": {},
     "output_type": "display_data"
    }
   ],
   "source": [
    "DoesLearnNegative(ImageNames50x50,50,50)"
   ]
  },
  {
   "cell_type": "markdown",
   "metadata": {},
   "source": [
    "Los patrones negativos fueron aprendidios correctamente. Validado esto, se arma un conjunto de patrones expandido con los patrones positivos y negativos y se evaluan todas las combianaciones suma de 3 elementos de este conjunto.\n",
    "\n",
    "Esto volverá a evaluar los patrones positivos y negativos, ya que si se suman 3 patrones A + B + C, donde A = -B, A y B se cancelan y queda el patrón C."
   ]
  },
  {
   "cell_type": "code",
   "execution_count": 28,
   "metadata": {},
   "outputs": [],
   "source": [
    "def PlotImages(Images,N,M, columns):\n",
    "    i = 0\n",
    "    for Image in Images:\n",
    "        if i == 0:\n",
    "            f, pltRow = plt.subplots(1, columns)\n",
    "        PlotImage(pltRow[i],Image.reshape(N,M))\n",
    "        i+=1\n",
    "        if i == columns:\n",
    "            i=0\n",
    "        \n",
    "    while ( i > 0 and columns > i ):\n",
    "        f.delaxes(pltRow[i])\n",
    "        i+=1"
   ]
  },
  {
   "cell_type": "code",
   "execution_count": 29,
   "metadata": {},
   "outputs": [],
   "source": [
    "def GenerateOddSpurious(Images):\n",
    "    ExtendedImages = np.squeeze( Images + [-1 * image for image in Images], axis=2)\n",
    "    combs = list(itertools.combinations(range(len(ExtendedImages)),3))\n",
    "    return [ (ExtendedImages[list(comb)].sum(axis=0) >= 0).astype(np.int32) * 2 - 1 for comb in combs ]\n",
    "    "
   ]
  },
  {
   "cell_type": "code",
   "execution_count": 30,
   "metadata": {},
   "outputs": [],
   "source": [
    "def TestSpurious(ImageNames,N,M):\n",
    "    Images=LoadImages(ImageNames)\n",
    "    W=CalculateWeights(Images)\n",
    "    \n",
    "    SpuriousImages=GenerateOddSpurious(Images)\n",
    "    \n",
    "    Learned=AutoTest(SpuriousImages ,SpuriousImages,W,N,M)\n",
    "    PlotImages( np.unique(SpuriousImages,axis=0), N,M, 4 )\n",
    "    \n",
    "    combs = [\"\".join(comb) for comb in itertools.combinations([\"A\",\"B\",\"C\",\"-A\",\"-B\",\"-C\"],3)]\n",
    "        #Pandas dataframe for table display\n",
    "    return pd.DataFrame([x for x in zip(combs, Learned)],columns=[\"Comb\",\"Learned\"]).set_index([\"Comb\",]).transpose()"
   ]
  },
  {
   "cell_type": "code",
   "execution_count": 31,
   "metadata": {},
   "outputs": [
    {
     "data": {
      "text/html": [
       "<div>\n",
       "<style scoped>\n",
       "    .dataframe tbody tr th:only-of-type {\n",
       "        vertical-align: middle;\n",
       "    }\n",
       "\n",
       "    .dataframe tbody tr th {\n",
       "        vertical-align: top;\n",
       "    }\n",
       "\n",
       "    .dataframe thead th {\n",
       "        text-align: right;\n",
       "    }\n",
       "</style>\n",
       "<table border=\"1\" class=\"dataframe\">\n",
       "  <thead>\n",
       "    <tr style=\"text-align: right;\">\n",
       "      <th>Comb</th>\n",
       "      <th>ABC</th>\n",
       "      <th>AB-A</th>\n",
       "      <th>AB-B</th>\n",
       "      <th>AB-C</th>\n",
       "      <th>AC-A</th>\n",
       "      <th>AC-B</th>\n",
       "      <th>AC-C</th>\n",
       "      <th>A-A-B</th>\n",
       "      <th>A-A-C</th>\n",
       "      <th>A-B-C</th>\n",
       "      <th>BC-A</th>\n",
       "      <th>BC-B</th>\n",
       "      <th>BC-C</th>\n",
       "      <th>B-A-B</th>\n",
       "      <th>B-A-C</th>\n",
       "      <th>B-B-C</th>\n",
       "      <th>C-A-B</th>\n",
       "      <th>C-A-C</th>\n",
       "      <th>C-B-C</th>\n",
       "      <th>-A-B-C</th>\n",
       "    </tr>\n",
       "  </thead>\n",
       "  <tbody>\n",
       "    <tr>\n",
       "      <th>Learned</th>\n",
       "      <td>True</td>\n",
       "      <td>True</td>\n",
       "      <td>True</td>\n",
       "      <td>True</td>\n",
       "      <td>True</td>\n",
       "      <td>True</td>\n",
       "      <td>True</td>\n",
       "      <td>True</td>\n",
       "      <td>True</td>\n",
       "      <td>True</td>\n",
       "      <td>True</td>\n",
       "      <td>True</td>\n",
       "      <td>True</td>\n",
       "      <td>True</td>\n",
       "      <td>True</td>\n",
       "      <td>True</td>\n",
       "      <td>True</td>\n",
       "      <td>True</td>\n",
       "      <td>True</td>\n",
       "      <td>True</td>\n",
       "    </tr>\n",
       "  </tbody>\n",
       "</table>\n",
       "</div>"
      ],
      "text/plain": [
       "Comb      ABC  AB-A  AB-B  AB-C  AC-A  AC-B  AC-C  A-A-B  A-A-C  A-B-C  BC-A  \\\n",
       "Learned  True  True  True  True  True  True  True   True   True   True  True   \n",
       "\n",
       "Comb     BC-B  BC-C  B-A-B  B-A-C  B-B-C  C-A-B  C-A-C  C-B-C  -A-B-C  \n",
       "Learned  True  True   True   True   True   True   True   True    True  "
      ]
     },
     "execution_count": 31,
     "metadata": {},
     "output_type": "execute_result"
    },
    {
     "data": {
      "image/png": "[encoded data removed]",
      "text/plain": [
       "<matplotlib.figure.Figure at 0x7f063544a0f0>"
      ]
     },
     "metadata": {},
     "output_type": "display_data"
    },
    {
     "data": {
      "image/png": "[encoded data removed]",
      "text/plain": [
       "<matplotlib.figure.Figure at 0x7f0634825358>"
      ]
     },
     "metadata": {},
     "output_type": "display_data"
    },
    {
     "data": {
      "image/png": "[encoded data removed]",
      "text/plain": [
       "<matplotlib.figure.Figure at 0x7f063523b128>"
      ]
     },
     "metadata": {},
     "output_type": "display_data"
    },
    {
     "data": {
      "image/png": "[encoded data removed]",
      "text/plain": [
       "<matplotlib.figure.Figure at 0x7f063464b5f8>"
      ]
     },
     "metadata": {},
     "output_type": "display_data"
    }
   ],
   "source": [
    "TestSpurious(ImageNames45x60,45,60)"
   ]
  },
  {
   "cell_type": "code",
   "execution_count": 32,
   "metadata": {},
   "outputs": [
    {
     "data": {
      "text/html": [
       "<div>\n",
       "<style scoped>\n",
       "    .dataframe tbody tr th:only-of-type {\n",
       "        vertical-align: middle;\n",
       "    }\n",
       "\n",
       "    .dataframe tbody tr th {\n",
       "        vertical-align: top;\n",
       "    }\n",
       "\n",
       "    .dataframe thead th {\n",
       "        text-align: right;\n",
       "    }\n",
       "</style>\n",
       "<table border=\"1\" class=\"dataframe\">\n",
       "  <thead>\n",
       "    <tr style=\"text-align: right;\">\n",
       "      <th>Comb</th>\n",
       "      <th>ABC</th>\n",
       "      <th>AB-A</th>\n",
       "      <th>AB-B</th>\n",
       "      <th>AB-C</th>\n",
       "      <th>AC-A</th>\n",
       "      <th>AC-B</th>\n",
       "      <th>AC-C</th>\n",
       "      <th>A-A-B</th>\n",
       "      <th>A-A-C</th>\n",
       "      <th>A-B-C</th>\n",
       "      <th>BC-A</th>\n",
       "      <th>BC-B</th>\n",
       "      <th>BC-C</th>\n",
       "      <th>B-A-B</th>\n",
       "      <th>B-A-C</th>\n",
       "      <th>B-B-C</th>\n",
       "      <th>C-A-B</th>\n",
       "      <th>C-A-C</th>\n",
       "      <th>C-B-C</th>\n",
       "      <th>-A-B-C</th>\n",
       "    </tr>\n",
       "  </thead>\n",
       "  <tbody>\n",
       "    <tr>\n",
       "      <th>Learned</th>\n",
       "      <td>True</td>\n",
       "      <td>True</td>\n",
       "      <td>True</td>\n",
       "      <td>True</td>\n",
       "      <td>True</td>\n",
       "      <td>True</td>\n",
       "      <td>True</td>\n",
       "      <td>True</td>\n",
       "      <td>True</td>\n",
       "      <td>True</td>\n",
       "      <td>True</td>\n",
       "      <td>True</td>\n",
       "      <td>True</td>\n",
       "      <td>True</td>\n",
       "      <td>True</td>\n",
       "      <td>True</td>\n",
       "      <td>True</td>\n",
       "      <td>True</td>\n",
       "      <td>True</td>\n",
       "      <td>True</td>\n",
       "    </tr>\n",
       "  </tbody>\n",
       "</table>\n",
       "</div>"
      ],
      "text/plain": [
       "Comb      ABC  AB-A  AB-B  AB-C  AC-A  AC-B  AC-C  A-A-B  A-A-C  A-B-C  BC-A  \\\n",
       "Learned  True  True  True  True  True  True  True   True   True   True  True   \n",
       "\n",
       "Comb     BC-B  BC-C  B-A-B  B-A-C  B-B-C  C-A-B  C-A-C  C-B-C  -A-B-C  \n",
       "Learned  True  True   True   True   True   True   True   True    True  "
      ]
     },
     "execution_count": 32,
     "metadata": {},
     "output_type": "execute_result"
    },
    {
     "data": {
      "image/png": "[encoded data removed]",
      "text/plain": [
       "<matplotlib.figure.Figure at 0x7f063513a240>"
      ]
     },
     "metadata": {},
     "output_type": "display_data"
    },
    {
     "data": {
      "image/png": "[encoded data removed]",
      "text/plain": [
       "<matplotlib.figure.Figure at 0x7f06355914e0>"
      ]
     },
     "metadata": {},
     "output_type": "display_data"
    },
    {
     "data": {
      "image/png": "[encoded data removed]",
      "text/plain": [
       "<matplotlib.figure.Figure at 0x7f0634fe90f0>"
      ]
     },
     "metadata": {},
     "output_type": "display_data"
    },
    {
     "data": {
      "image/png": "[encoded data removed]",
      "text/plain": [
       "<matplotlib.figure.Figure at 0x7f063521de10>"
      ]
     },
     "metadata": {},
     "output_type": "display_data"
    }
   ],
   "source": [
    "TestSpurious(ImageNames50x50,50,50)"
   ]
  },
  {
   "cell_type": "markdown",
   "metadata": {},
   "source": [
    "Todos los patrones generados como suma de 3 patrones resulta en un patrón aprendido por la red para ambos conjuntos de imágenes."
   ]
  },
  {
   "cell_type": "markdown",
   "metadata": {},
   "source": [
    "### d) Realice un entrenamiento con todas las imágenes disponibles. ¿Es capaz la red de aprender todas las imágenes? Explique."
   ]
  },
  {
   "cell_type": "markdown",
   "metadata": {},
   "source": [
    "Para poder cargar todas las imágenes juntas es necesario primero homogeneizar el tamaño. Para ello se eligió extender las imágenes con un padding.o"
   ]
  },
  {
   "cell_type": "code",
   "execution_count": 33,
   "metadata": {},
   "outputs": [],
   "source": [
    "def LoadImagesWithPadding(ImageFileNames,N,M,paddingFunction):\n",
    "    for image_name in ImageFileNames:\n",
    "        base_image=(plt.imread(image_name)[:,:,0] / 255 ).astype(np.double) * 2 - 1\n",
    "        padded_image=(paddingFunction(N,M) > 0.5).astype(np.int32).astype(np.double) * 2 - 1\n",
    "        padded_image[:base_image.shape[0],:base_image.shape[1]] = base_image\n",
    "        yield padded_image.reshape(-1,1)"
   ]
  },
  {
   "cell_type": "code",
   "execution_count": 34,
   "metadata": {},
   "outputs": [],
   "source": [
    "def DoesLearnWithPadding(ImageNames,h,w,paddingFunction):\n",
    "    Images=list(LoadImagesWithPadding(ImageNames,h,w,paddingFunction))\n",
    "    PlotImages(Images,h,w,3)\n",
    "    W=CalculateWeights(Images)\n",
    "    Learned=AutoTest(Images,Images,W,h,w)\n",
    "    #Pandas dataframe for table display\n",
    "    return pd.DataFrame([x for x in zip(ImageNames, Learned)],columns=[\"Image\",\"Learned\"]).set_index([\"Image\",])\n",
    "\n"
   ]
  },
  {
   "cell_type": "code",
   "execution_count": 35,
   "metadata": {},
   "outputs": [
    {
     "data": {
      "text/html": [
       "<div>\n",
       "<style scoped>\n",
       "    .dataframe tbody tr th:only-of-type {\n",
       "        vertical-align: middle;\n",
       "    }\n",
       "\n",
       "    .dataframe tbody tr th {\n",
       "        vertical-align: top;\n",
       "    }\n",
       "\n",
       "    .dataframe thead th {\n",
       "        text-align: right;\n",
       "    }\n",
       "</style>\n",
       "<table border=\"1\" class=\"dataframe\">\n",
       "  <thead>\n",
       "    <tr style=\"text-align: right;\">\n",
       "      <th></th>\n",
       "      <th>Learned</th>\n",
       "    </tr>\n",
       "    <tr>\n",
       "      <th>Image</th>\n",
       "      <th></th>\n",
       "    </tr>\n",
       "  </thead>\n",
       "  <tbody>\n",
       "    <tr>\n",
       "      <th>images/paloma.bmp</th>\n",
       "      <td>False</td>\n",
       "    </tr>\n",
       "    <tr>\n",
       "      <th>images/quijote.bmp</th>\n",
       "      <td>True</td>\n",
       "    </tr>\n",
       "    <tr>\n",
       "      <th>images/torero.bmp</th>\n",
       "      <td>False</td>\n",
       "    </tr>\n",
       "    <tr>\n",
       "      <th>images/panda.bmp</th>\n",
       "      <td>True</td>\n",
       "    </tr>\n",
       "    <tr>\n",
       "      <th>images/perro.bmp</th>\n",
       "      <td>True</td>\n",
       "    </tr>\n",
       "    <tr>\n",
       "      <th>images/v.bmp</th>\n",
       "      <td>True</td>\n",
       "    </tr>\n",
       "  </tbody>\n",
       "</table>\n",
       "</div>"
      ],
      "text/plain": [
       "                    Learned\n",
       "Image                      \n",
       "images/paloma.bmp     False\n",
       "images/quijote.bmp     True\n",
       "images/torero.bmp     False\n",
       "images/panda.bmp       True\n",
       "images/perro.bmp       True\n",
       "images/v.bmp           True"
      ]
     },
     "execution_count": 35,
     "metadata": {},
     "output_type": "execute_result"
    },
    {
     "data": {
      "image/png": "[encoded data removed]",
      "text/plain": [
       "<matplotlib.figure.Figure at 0x7f06344b5d68>"
      ]
     },
     "metadata": {},
     "output_type": "display_data"
    },
    {
     "data": {
      "image/png": "[encoded data removed]",
      "text/plain": [
       "<matplotlib.figure.Figure at 0x7f06345b5518>"
      ]
     },
     "metadata": {},
     "output_type": "display_data"
    }
   ],
   "source": [
    "DoesLearnWithPadding(ImageNames45x60 + ImageNames50x50, 50,60,lambda h,w: np.zeros([h,w]))"
   ]
  },
  {
   "cell_type": "code",
   "execution_count": 36,
   "metadata": {},
   "outputs": [
    {
     "data": {
      "text/html": [
       "<div>\n",
       "<style scoped>\n",
       "    .dataframe tbody tr th:only-of-type {\n",
       "        vertical-align: middle;\n",
       "    }\n",
       "\n",
       "    .dataframe tbody tr th {\n",
       "        vertical-align: top;\n",
       "    }\n",
       "\n",
       "    .dataframe thead th {\n",
       "        text-align: right;\n",
       "    }\n",
       "</style>\n",
       "<table border=\"1\" class=\"dataframe\">\n",
       "  <thead>\n",
       "    <tr style=\"text-align: right;\">\n",
       "      <th></th>\n",
       "      <th>Learned</th>\n",
       "    </tr>\n",
       "    <tr>\n",
       "      <th>Image</th>\n",
       "      <th></th>\n",
       "    </tr>\n",
       "  </thead>\n",
       "  <tbody>\n",
       "    <tr>\n",
       "      <th>images/paloma.bmp</th>\n",
       "      <td>False</td>\n",
       "    </tr>\n",
       "    <tr>\n",
       "      <th>images/quijote.bmp</th>\n",
       "      <td>False</td>\n",
       "    </tr>\n",
       "    <tr>\n",
       "      <th>images/torero.bmp</th>\n",
       "      <td>False</td>\n",
       "    </tr>\n",
       "    <tr>\n",
       "      <th>images/panda.bmp</th>\n",
       "      <td>False</td>\n",
       "    </tr>\n",
       "    <tr>\n",
       "      <th>images/perro.bmp</th>\n",
       "      <td>False</td>\n",
       "    </tr>\n",
       "    <tr>\n",
       "      <th>images/v.bmp</th>\n",
       "      <td>True</td>\n",
       "    </tr>\n",
       "  </tbody>\n",
       "</table>\n",
       "</div>"
      ],
      "text/plain": [
       "                    Learned\n",
       "Image                      \n",
       "images/paloma.bmp     False\n",
       "images/quijote.bmp    False\n",
       "images/torero.bmp     False\n",
       "images/panda.bmp      False\n",
       "images/perro.bmp      False\n",
       "images/v.bmp           True"
      ]
     },
     "execution_count": 36,
     "metadata": {},
     "output_type": "execute_result"
    },
    {
     "data": {
      "image/png": "[encoded data removed]",
      "text/plain": [
       "<matplotlib.figure.Figure at 0x7f063505dcf8>"
      ]
     },
     "metadata": {},
     "output_type": "display_data"
    },
    {
     "data": {
      "image/png": "[encoded data removed]",
      "text/plain": [
       "<matplotlib.figure.Figure at 0x7f06345fd240>"
      ]
     },
     "metadata": {},
     "output_type": "display_data"
    }
   ],
   "source": [
    "DoesLearnWithPadding(ImageNames45x60 + ImageNames50x50, 50,60,lambda h,w: np.ones([h,w]))"
   ]
  },
  {
   "cell_type": "code",
   "execution_count": 52,
   "metadata": {},
   "outputs": [
    {
     "data": {
      "text/html": [
       "<div>\n",
       "<style scoped>\n",
       "    .dataframe tbody tr th:only-of-type {\n",
       "        vertical-align: middle;\n",
       "    }\n",
       "\n",
       "    .dataframe tbody tr th {\n",
       "        vertical-align: top;\n",
       "    }\n",
       "\n",
       "    .dataframe thead th {\n",
       "        text-align: right;\n",
       "    }\n",
       "</style>\n",
       "<table border=\"1\" class=\"dataframe\">\n",
       "  <thead>\n",
       "    <tr style=\"text-align: right;\">\n",
       "      <th></th>\n",
       "      <th>Learned</th>\n",
       "    </tr>\n",
       "    <tr>\n",
       "      <th>Image</th>\n",
       "      <th></th>\n",
       "    </tr>\n",
       "  </thead>\n",
       "  <tbody>\n",
       "    <tr>\n",
       "      <th>images/paloma.bmp</th>\n",
       "      <td>False</td>\n",
       "    </tr>\n",
       "    <tr>\n",
       "      <th>images/quijote.bmp</th>\n",
       "      <td>True</td>\n",
       "    </tr>\n",
       "    <tr>\n",
       "      <th>images/torero.bmp</th>\n",
       "      <td>True</td>\n",
       "    </tr>\n",
       "    <tr>\n",
       "      <th>images/panda.bmp</th>\n",
       "      <td>True</td>\n",
       "    </tr>\n",
       "    <tr>\n",
       "      <th>images/perro.bmp</th>\n",
       "      <td>True</td>\n",
       "    </tr>\n",
       "    <tr>\n",
       "      <th>images/v.bmp</th>\n",
       "      <td>True</td>\n",
       "    </tr>\n",
       "  </tbody>\n",
       "</table>\n",
       "</div>"
      ],
      "text/plain": [
       "                    Learned\n",
       "Image                      \n",
       "images/paloma.bmp     False\n",
       "images/quijote.bmp     True\n",
       "images/torero.bmp      True\n",
       "images/panda.bmp       True\n",
       "images/perro.bmp       True\n",
       "images/v.bmp           True"
      ]
     },
     "execution_count": 52,
     "metadata": {},
     "output_type": "execute_result"
    },
    {
     "data": {
      "image/png": "[encoded data removed]",
      "text/plain": [
       "<matplotlib.figure.Figure at 0x7f06376ddd68>"
      ]
     },
     "metadata": {},
     "output_type": "display_data"
    },
    {
     "data": {
      "image/png": "[encoded data removed]",
      "text/plain": [
       "<matplotlib.figure.Figure at 0x7f063516f320>"
      ]
     },
     "metadata": {},
     "output_type": "display_data"
    }
   ],
   "source": [
    "DoesLearnWithPadding(ImageNames45x60 + ImageNames50x50, 50,60,np.random.rand)"
   ]
  },
  {
   "cell_type": "markdown",
   "metadata": {},
   "source": [
    "En ninguno de los casos la red pudo aprender todos los patrones, pero los resultados variaron con el tipo de padding utilizado.\n",
    "El padding el blanco fue el que produjo mayores solapamientos y solo aprendio un patrón.\n",
    "El padding en negro produjo que 2 patrones no pudieran ser aprendidos.\n",
    "El padding con patrones pseudoaleatorios produje que 1 o 2 patrones nos e pudieran aprender dependiendo de la corrida."
   ]
  },
  {
   "cell_type": "code",
   "execution_count": 55,
   "metadata": {},
   "outputs": [],
   "source": [
    "def ConvergingPatterns(ImageNames,h,w,paddingFunction):\n",
    "    Images=list(LoadImagesWithPadding(ImageNames,h,w,paddingFunction))\n",
    "    W=CalculateWeights(Images)\n",
    "    PlotImages([hopfield(image,W,h,w) for image in Images],h,w,3)"
   ]
  },
  {
   "cell_type": "markdown",
   "metadata": {},
   "source": [
    "Patrones a los que converje el algoritmo:"
   ]
  },
  {
   "cell_type": "code",
   "execution_count": 174,
   "metadata": {},
   "outputs": [
    {
     "data": {
      "image/png": "[encoded data removed]",
      "text/plain": [
       "<matplotlib.figure.Figure at 0x7f06353c1908>"
      ]
     },
     "metadata": {},
     "output_type": "display_data"
    },
    {
     "data": {
      "image/png": "[encoded data removed]",
      "text/plain": [
       "<matplotlib.figure.Figure at 0x7f06348d1208>"
      ]
     },
     "metadata": {},
     "output_type": "display_data"
    }
   ],
   "source": [
    "ConvergingPatterns(ImageNames45x60 + ImageNames50x50, 50,60,lambda h,w: np.zeros([h,w]))"
   ]
  },
  {
   "cell_type": "code",
   "execution_count": 175,
   "metadata": {},
   "outputs": [
    {
     "data": {
      "image/png": "[encoded data removed]",
      "text/plain": [
       "<matplotlib.figure.Figure at 0x7f06376d9ef0>"
      ]
     },
     "metadata": {},
     "output_type": "display_data"
    },
    {
     "data": {
      "image/png": "[encoded data removed]",
      "text/plain": [
       "<matplotlib.figure.Figure at 0x7f063195e780>"
      ]
     },
     "metadata": {},
     "output_type": "display_data"
    }
   ],
   "source": [
    "ConvergingPatterns(ImageNames45x60 + ImageNames50x50, 50,60,lambda h,w: np.ones([h,w]))"
   ]
  },
  {
   "cell_type": "code",
   "execution_count": 176,
   "metadata": {},
   "outputs": [
    {
     "data": {
      "image/png": "[encoded data removed]",
      "text/plain": [
       "<matplotlib.figure.Figure at 0x7f06351143c8>"
      ]
     },
     "metadata": {},
     "output_type": "display_data"
    },
    {
     "data": {
      "image/png": "[encoded data removed]",
      "text/plain": [
       "<matplotlib.figure.Figure at 0x7f0635252a20>"
      ]
     },
     "metadata": {},
     "output_type": "display_data"
    }
   ],
   "source": [
    "ConvergingPatterns(ImageNames45x60 + ImageNames50x50, 50,60,np.random.rand)"
   ]
  },
  {
   "cell_type": "markdown",
   "metadata": {},
   "source": [
    "Observando a dónde convergen los patrones que fallaron, se observa que los patrones de salida contienen parte de la información del patrón de entrada por ejemplo las alas de la paloma y las patas del toro todavía pueden apreciarse para el caso del padding negro."
   ]
  },
  {
   "cell_type": "markdown",
   "metadata": {},
   "source": [
    "Se concluye que los patrones no son lo suficientemente ortogonales entre sí para ser aprendidos todos."
   ]
  },
  {
   "cell_type": "markdown",
   "metadata": {},
   "source": [
    "## 2. Comprobar estadísticamente la capacidad de la red de Hopfield ‘82 calculando la cantidad máxima de patrones pseudo-aleatorios aprendidos en función del tamaño de la red.\n",
    "\n",
    "###  a) Obtener experimentalmente los resultados de la siguiente tabla (los valores de la tabla corresponden a una iteración con actualización sincrónica)."
   ]
  },
  {
   "cell_type": "code",
   "execution_count": 221,
   "metadata": {},
   "outputs": [],
   "source": [
    "tableHertzEtAl=pd.DataFrame([\n",
    "    [0.001, 0.105],\n",
    "    [0.0035, 0.138],\n",
    "    [0.01,0.185],\n",
    "    [0.05,0.37],\n",
    "    [0.1,0.61]],columns=[\"Perror\",\"pmax/N\"]).set_index(\"Perror\")"
   ]
  },
  {
   "cell_type": "code",
   "execution_count": 222,
   "metadata": {},
   "outputs": [],
   "source": [
    "def randImageGen(N,P):\n",
    "    return [ (np.random.rand(N,1) > 0.5).astype(np.int32).astype(np.double) * 2 - 1  for _ in range(P)]"
   ]
  },
  {
   "cell_type": "code",
   "execution_count": 223,
   "metadata": {},
   "outputs": [],
   "source": [
    "def calcPError(algo,imageGen,N,P):\n",
    "    Images=imageGen(N,P)\n",
    "    W=CalculateWeights(Images)\n",
    "    return np.sum([(algo(image,W,N,1) != image ).astype(np.int32).sum()/N for image in Images ])/P"
   ]
  },
  {
   "cell_type": "code",
   "execution_count": 224,
   "metadata": {},
   "outputs": [],
   "source": [
    "class ExceededMaxIterations(Exception):\n",
    "    pass"
   ]
  },
  {
   "cell_type": "code",
   "execution_count": 225,
   "metadata": {},
   "outputs": [],
   "source": [
    "def repeatPError(algo,imageGen,N,P):\n",
    "    step=10\n",
    "    acc=[]\n",
    "    while(True):\n",
    "        try:\n",
    "            #Exception Shuld \n",
    "            acc+=[ calcPError(algo,imageGen,N,P) for _ in range(10) ]\n",
    "        except ExceededMaxIterations as e:\n",
    "            print(str(e))\n",
    "            continue\n",
    "         \n",
    "        std = np.std(acc,ddof=1)\n",
    "        if 2.32*std/np.sqrt(len(acc)) < 0.01:\n",
    "            break\n",
    "        #else:\n",
    "        #    print(2.32*std/np.sqrt(len(acc)))\n",
    "    return np.mean(acc)"
   ]
  },
  {
   "cell_type": "code",
   "execution_count": 226,
   "metadata": {},
   "outputs": [],
   "source": [
    "def FillTable(algo, imageGen, span ):\n",
    "    df=pd.DataFrame(columns=[\"N\",\"P\",\"PError\"]).set_index([\"N\",\"P\"])\n",
    "\n",
    "    for N in span:\n",
    "        pError=0\n",
    "        P=0\n",
    "        while pError < 0.15:\n",
    "            P+=1\n",
    "            pError = repeatPError(algo,randImageGen,N,P)\n",
    "            df.loc[(N,P),\"PError\"]=pError\n",
    "            #print(N,P,pError),\n",
    "    return df\n",
    "    "
   ]
  },
  {
   "cell_type": "code",
   "execution_count": 231,
   "metadata": {},
   "outputs": [],
   "source": [
    "def PlotCapacity(df, tableHertzEtAl):\n",
    "    for N, new_df in df.groupby(level=0):\n",
    "        ndf=new_df.reset_index()\n",
    "        plt.plot(ndf[\"P\"]/ndf[\"N\"],ndf[\"PError\"],label=N)\n",
    "\n",
    "\n",
    "    ndf=tableHertzEtAl.reset_index()\n",
    "    plt.plot(ndf[\"pmax/N\"],ndf[\"Perror\"],label=\"Hertz et al\", linewidth=3)\n",
    "    plt.legend()"
   ]
  },
  {
   "cell_type": "markdown",
   "metadata": {},
   "source": [
    "Capacidad de la red para Hopfield Asíncrono:"
   ]
  },
  {
   "cell_type": "code",
   "execution_count": 228,
   "metadata": {},
   "outputs": [
    {
     "data": {
      "text/html": [
       "<div>\n",
       "<style scoped>\n",
       "    .dataframe tbody tr th:only-of-type {\n",
       "        vertical-align: middle;\n",
       "    }\n",
       "\n",
       "    .dataframe tbody tr th {\n",
       "        vertical-align: top;\n",
       "    }\n",
       "\n",
       "    .dataframe thead tr th {\n",
       "        text-align: left;\n",
       "    }\n",
       "</style>\n",
       "<table border=\"1\" class=\"dataframe\">\n",
       "  <thead>\n",
       "    <tr>\n",
       "      <th>N</th>\n",
       "      <th colspan=\"6\" halign=\"left\">10</th>\n",
       "      <th colspan=\"10\" halign=\"left\">20</th>\n",
       "    </tr>\n",
       "    <tr>\n",
       "      <th>P</th>\n",
       "      <th>1</th>\n",
       "      <th>2</th>\n",
       "      <th>3</th>\n",
       "      <th>4</th>\n",
       "      <th>5</th>\n",
       "      <th>6</th>\n",
       "      <th>1</th>\n",
       "      <th>2</th>\n",
       "      <th>3</th>\n",
       "      <th>4</th>\n",
       "      <th>5</th>\n",
       "      <th>6</th>\n",
       "      <th>7</th>\n",
       "      <th>8</th>\n",
       "      <th>9</th>\n",
       "      <th>10</th>\n",
       "    </tr>\n",
       "  </thead>\n",
       "  <tbody>\n",
       "    <tr>\n",
       "      <th>PError</th>\n",
       "      <td>0.0</td>\n",
       "      <td>0.0025</td>\n",
       "      <td>0.003333</td>\n",
       "      <td>0.063</td>\n",
       "      <td>0.096273</td>\n",
       "      <td>0.16</td>\n",
       "      <td>0.0</td>\n",
       "      <td>0.0</td>\n",
       "      <td>0.001667</td>\n",
       "      <td>0.009063</td>\n",
       "      <td>0.023</td>\n",
       "      <td>0.060486</td>\n",
       "      <td>0.086389</td>\n",
       "      <td>0.134836</td>\n",
       "      <td>0.146579</td>\n",
       "      <td>0.175536</td>\n",
       "    </tr>\n",
       "  </tbody>\n",
       "</table>\n",
       "</div>"
      ],
      "text/plain": [
       "N        10                                            20                 \\\n",
       "P        1       2         3      4         5     6    1    2         3    \n",
       "PError  0.0  0.0025  0.003333  0.063  0.096273  0.16  0.0  0.0  0.001667   \n",
       "\n",
       "N                                                                          \n",
       "P             4      5         6         7         8         9         10  \n",
       "PError  0.009063  0.023  0.060486  0.086389  0.134836  0.146579  0.175536  "
      ]
     },
     "execution_count": 228,
     "metadata": {},
     "output_type": "execute_result"
    }
   ],
   "source": [
    "asyncCapacity=FillTable(hopfield, np.arange(10,30,10))\n",
    "asyncCapacity.transpose()"
   ]
  },
  {
   "cell_type": "code",
   "execution_count": 232,
   "metadata": {},
   "outputs": [
    {
     "data": {
      "image/png": "[encoded data removed]",
      "text/plain": [
       "<matplotlib.figure.Figure at 0x7f0631782240>"
      ]
     },
     "metadata": {},
     "output_type": "display_data"
    }
   ],
   "source": [
    "PlotCapacity(asyncCapacity,tableHertzEtAl)"
   ]
  },
  {
   "cell_type": "code",
   "execution_count": 233,
   "metadata": {},
   "outputs": [],
   "source": [
    "def syncHopfield(seed,w,N,M):\n",
    "    outVal = np.copy(seed);\n",
    "    iteration = 1;\n",
    "    changed = True;\n",
    "    guard=500\n",
    "    newVal = np.zeros(outVal.shape);\n",
    "    while(changed):\n",
    "        guard-=1\n",
    "        changed = False;\n",
    "        for i in range(len(outVal)):\n",
    "            hi=signo(w[i,:].reshape(1,-1).dot(outVal))\n",
    "            changed |= (hi != outVal[i])\n",
    "            newVal[i]=hi\n",
    "        outVal=newVal\n",
    "        \n",
    "        if guard == 0:\n",
    "            raise ExceededMaxIterations(\"Exceeded iterations range: N=%i, M=%i\" % [M ,N])\n",
    "            \n",
    "    return outVal"
   ]
  },
  {
   "cell_type": "markdown",
   "metadata": {},
   "source": [
    "Capacidad de la red para Hopfield Síncrono:"
   ]
  },
  {
   "cell_type": "code",
   "execution_count": 237,
   "metadata": {},
   "outputs": [
    {
     "data": {
      "text/html": [
       "<div>\n",
       "<style scoped>\n",
       "    .dataframe tbody tr th:only-of-type {\n",
       "        vertical-align: middle;\n",
       "    }\n",
       "\n",
       "    .dataframe tbody tr th {\n",
       "        vertical-align: top;\n",
       "    }\n",
       "\n",
       "    .dataframe thead tr th {\n",
       "        text-align: left;\n",
       "    }\n",
       "</style>\n",
       "<table border=\"1\" class=\"dataframe\">\n",
       "  <thead>\n",
       "    <tr>\n",
       "      <th>N</th>\n",
       "      <th colspan=\"6\" halign=\"left\">10</th>\n",
       "      <th colspan=\"10\" halign=\"left\">20</th>\n",
       "    </tr>\n",
       "    <tr>\n",
       "      <th>P</th>\n",
       "      <th>1</th>\n",
       "      <th>2</th>\n",
       "      <th>3</th>\n",
       "      <th>4</th>\n",
       "      <th>5</th>\n",
       "      <th>6</th>\n",
       "      <th>1</th>\n",
       "      <th>2</th>\n",
       "      <th>3</th>\n",
       "      <th>4</th>\n",
       "      <th>5</th>\n",
       "      <th>6</th>\n",
       "      <th>7</th>\n",
       "      <th>8</th>\n",
       "      <th>9</th>\n",
       "      <th>10</th>\n",
       "    </tr>\n",
       "  </thead>\n",
       "  <tbody>\n",
       "    <tr>\n",
       "      <th>PError</th>\n",
       "      <td>0.0</td>\n",
       "      <td>0.0</td>\n",
       "      <td>0.009167</td>\n",
       "      <td>0.070263</td>\n",
       "      <td>0.101217</td>\n",
       "      <td>0.15746</td>\n",
       "      <td>0.0</td>\n",
       "      <td>0.0</td>\n",
       "      <td>0.0</td>\n",
       "      <td>0.00875</td>\n",
       "      <td>0.020333</td>\n",
       "      <td>0.052381</td>\n",
       "      <td>0.085</td>\n",
       "      <td>0.127917</td>\n",
       "      <td>0.141852</td>\n",
       "      <td>0.180214</td>\n",
       "    </tr>\n",
       "  </tbody>\n",
       "</table>\n",
       "</div>"
      ],
      "text/plain": [
       "N        10                                               20            \\\n",
       "P        1    2         3         4         5        6    1    2    3    \n",
       "PError  0.0  0.0  0.009167  0.070263  0.101217  0.15746  0.0  0.0  0.0   \n",
       "\n",
       "N                                                                         \n",
       "P            4         5         6      7         8         9         10  \n",
       "PError  0.00875  0.020333  0.052381  0.085  0.127917  0.141852  0.180214  "
      ]
     },
     "execution_count": 237,
     "metadata": {},
     "output_type": "execute_result"
    }
   ],
   "source": [
    "syncCapacity=FillTable(syncHopfield, randImageGen, np.arange(10,30,10))\n",
    "syncCapacity.transpose()"
   ]
  },
  {
   "cell_type": "code",
   "execution_count": 238,
   "metadata": {},
   "outputs": [
    {
     "data": {
      "image/png": "[encoded data removed]",
      "text/plain": [
       "<matplotlib.figure.Figure at 0x7f0631782e80>"
      ]
     },
     "metadata": {},
     "output_type": "display_data"
    }
   ],
   "source": [
    "PlotCapacity(syncCapacity,tableHertzEtAl)"
   ]
  },
  {
   "cell_type": "markdown",
   "metadata": {},
   "source": [
    "No se pudo reproducir la tabla.\n",
    "Se calculó la Probabilidad de error con un intervalo de confianza del 99%\n",
    "Se observa que la probabilidad de error para un dado factor Pmax/N aumenta conforme incrementa N.\n",
    "Se repitió el experimento utilizando hopfield con actualización sincrónica. El procesamiento fue considerablemente mas lento pero no se observaron cambios en los resultados "
   ]
  },
  {
   "attachments": {},
   "cell_type": "markdown",
   "metadata": {},
   "source": [
    "### b) Analice cómo cambia la capacidad de una red en función de la correlación entre patrones"
   ]
  },
  {
   "cell_type": "markdown",
   "metadata": {},
   "source": [
    "Las imágenes se correlacionaron de la siguiente manera:\n",
    "\n",
    "- La primer imágen (n = 1)  es pseudo aleatoria\n",
    "- La n-ésima imágen con n > 1 se compone de los valores de n-1 para K < N posiciones elegidas al azar. El resto de los pasociones toma valores aleatorios."
   ]
  },
  {
   "cell_type": "code",
   "execution_count": 269,
   "metadata": {},
   "outputs": [],
   "source": [
    "def genCorrelatedImages(N,P,ro):\n",
    "    Images=randImageGen(N,P)\n",
    "    for n in range(1,P):\n",
    "        rndIdx=np.random.choice(np.arange(20),int(np.floor(20*ro)))\n",
    "        Images[n][rndIdx]=Images[n-1][rndIdx]\n",
    "    return Images"
   ]
  },
  {
   "cell_type": "code",
   "execution_count": 270,
   "metadata": {},
   "outputs": [],
   "source": [
    "def corrFillTable(algo, N, span ):\n",
    "    df=pd.DataFrame(columns=[\"ro\",\"P\",\"PError\"]).set_index([\"ro\",\"P\"])\n",
    "\n",
    "    for ro in span:\n",
    "        pError=0\n",
    "        P=0\n",
    "        while pError < 0.15:\n",
    "            P+=1\n",
    "            roundRo = np.floor(N*ro)/N\n",
    "            pError = repeatPError(algo,lambda n,p:genCorrelatedImages(n,p,roundRo),N,P)\n",
    "            df.loc[(roundRo,P),\"PError\"]=pError\n",
    "            #print(N,P,pError),\n",
    "    return df"
   ]
  },
  {
   "cell_type": "code",
   "execution_count": 275,
   "metadata": {},
   "outputs": [],
   "source": [
    "def corrPlotCapacity(df):\n",
    "    for ro, new_df in df.groupby(level=0):\n",
    "        ndf=new_df.reset_index()\n",
    "        plt.plot(ndf[\"P\"],ndf[\"PError\"],label=ro)\n",
    "    plt.legend()"
   ]
  },
  {
   "cell_type": "code",
   "execution_count": 277,
   "metadata": {},
   "outputs": [
    {
     "ename": "KeyboardInterrupt",
     "evalue": "",
     "output_type": "error",
     "traceback": [
      "\u001b[0;31m---------------------------------------------------------------------------\u001b[0m",
      "\u001b[0;31mKeyboardInterrupt\u001b[0m                         Traceback (most recent call last)",
      "\u001b[0;32m<ipython-input-277-ea9c792df53b>\u001b[0m in \u001b[0;36m<module>\u001b[0;34m()\u001b[0m\n\u001b[0;32m----> 1\u001b[0;31m \u001b[0mcorrCapacity\u001b[0m\u001b[0;34m=\u001b[0m\u001b[0mcorrFillTable\u001b[0m\u001b[0;34m(\u001b[0m\u001b[0mhopfield\u001b[0m\u001b[0;34m,\u001b[0m \u001b[0;36m30\u001b[0m\u001b[0;34m,\u001b[0m \u001b[0mnp\u001b[0m\u001b[0;34m.\u001b[0m\u001b[0marange\u001b[0m\u001b[0;34m(\u001b[0m\u001b[0;36m0\u001b[0m\u001b[0;34m,\u001b[0m\u001b[0;36m1\u001b[0m\u001b[0;34m,\u001b[0m\u001b[0;36m0.1\u001b[0m\u001b[0;34m)\u001b[0m\u001b[0;34m)\u001b[0m\u001b[0;34m\u001b[0m\u001b[0;34m\u001b[0m\u001b[0m\n\u001b[0m\u001b[1;32m      2\u001b[0m \u001b[0mcorrCapacity\u001b[0m\u001b[0;34m\u001b[0m\u001b[0;34m\u001b[0m\u001b[0m\n",
      "\u001b[0;32m<ipython-input-270-4d0f665434ba>\u001b[0m in \u001b[0;36mcorrFillTable\u001b[0;34m(algo, N, span)\u001b[0m\n\u001b[1;32m      8\u001b[0m             \u001b[0mP\u001b[0m\u001b[0;34m+=\u001b[0m\u001b[0;36m1\u001b[0m\u001b[0;34m\u001b[0m\u001b[0;34m\u001b[0m\u001b[0m\n\u001b[1;32m      9\u001b[0m             \u001b[0mroundRo\u001b[0m \u001b[0;34m=\u001b[0m \u001b[0mnp\u001b[0m\u001b[0;34m.\u001b[0m\u001b[0mfloor\u001b[0m\u001b[0;34m(\u001b[0m\u001b[0mN\u001b[0m\u001b[0;34m*\u001b[0m\u001b[0mro\u001b[0m\u001b[0;34m)\u001b[0m\u001b[0;34m/\u001b[0m\u001b[0mN\u001b[0m\u001b[0;34m\u001b[0m\u001b[0;34m\u001b[0m\u001b[0m\n\u001b[0;32m---> 10\u001b[0;31m             \u001b[0mpError\u001b[0m \u001b[0;34m=\u001b[0m \u001b[0mrepeatPError\u001b[0m\u001b[0;34m(\u001b[0m\u001b[0malgo\u001b[0m\u001b[0;34m,\u001b[0m\u001b[0;32mlambda\u001b[0m \u001b[0mn\u001b[0m\u001b[0;34m,\u001b[0m\u001b[0mp\u001b[0m\u001b[0;34m:\u001b[0m\u001b[0mgenCorrelatedImages\u001b[0m\u001b[0;34m(\u001b[0m\u001b[0mn\u001b[0m\u001b[0;34m,\u001b[0m\u001b[0mp\u001b[0m\u001b[0;34m,\u001b[0m\u001b[0mroundRo\u001b[0m\u001b[0;34m)\u001b[0m\u001b[0;34m,\u001b[0m\u001b[0mN\u001b[0m\u001b[0;34m,\u001b[0m\u001b[0mP\u001b[0m\u001b[0;34m)\u001b[0m\u001b[0;34m\u001b[0m\u001b[0;34m\u001b[0m\u001b[0m\n\u001b[0m\u001b[1;32m     11\u001b[0m             \u001b[0mdf\u001b[0m\u001b[0;34m.\u001b[0m\u001b[0mloc\u001b[0m\u001b[0;34m[\u001b[0m\u001b[0;34m(\u001b[0m\u001b[0mroundRo\u001b[0m\u001b[0;34m,\u001b[0m\u001b[0mP\u001b[0m\u001b[0;34m)\u001b[0m\u001b[0;34m,\u001b[0m\u001b[0;34m\"PError\"\u001b[0m\u001b[0;34m]\u001b[0m\u001b[0;34m=\u001b[0m\u001b[0mpError\u001b[0m\u001b[0;34m\u001b[0m\u001b[0;34m\u001b[0m\u001b[0m\n\u001b[1;32m     12\u001b[0m             \u001b[0;31m#print(N,P,pError),\u001b[0m\u001b[0;34m\u001b[0m\u001b[0;34m\u001b[0m\u001b[0;34m\u001b[0m\u001b[0m\n",
      "\u001b[0;32m<ipython-input-225-00485b4fbe7f>\u001b[0m in \u001b[0;36mrepeatPError\u001b[0;34m(algo, imageGen, N, P)\u001b[0m\n\u001b[1;32m      5\u001b[0m         \u001b[0;32mtry\u001b[0m\u001b[0;34m:\u001b[0m\u001b[0;34m\u001b[0m\u001b[0;34m\u001b[0m\u001b[0m\n\u001b[1;32m      6\u001b[0m             \u001b[0;31m#Exception Shuld\u001b[0m\u001b[0;34m\u001b[0m\u001b[0;34m\u001b[0m\u001b[0;34m\u001b[0m\u001b[0m\n\u001b[0;32m----> 7\u001b[0;31m             \u001b[0macc\u001b[0m\u001b[0;34m+=\u001b[0m\u001b[0;34m[\u001b[0m \u001b[0mcalcPError\u001b[0m\u001b[0;34m(\u001b[0m\u001b[0malgo\u001b[0m\u001b[0;34m,\u001b[0m\u001b[0mimageGen\u001b[0m\u001b[0;34m,\u001b[0m\u001b[0mN\u001b[0m\u001b[0;34m,\u001b[0m\u001b[0mP\u001b[0m\u001b[0;34m)\u001b[0m \u001b[0;32mfor\u001b[0m \u001b[0m_\u001b[0m \u001b[0;32min\u001b[0m \u001b[0mrange\u001b[0m\u001b[0;34m(\u001b[0m\u001b[0;36m10\u001b[0m\u001b[0;34m)\u001b[0m \u001b[0;34m]\u001b[0m\u001b[0;34m\u001b[0m\u001b[0;34m\u001b[0m\u001b[0m\n\u001b[0m\u001b[1;32m      8\u001b[0m         \u001b[0;32mexcept\u001b[0m \u001b[0mExceededMaxIterations\u001b[0m \u001b[0;32mas\u001b[0m \u001b[0me\u001b[0m\u001b[0;34m:\u001b[0m\u001b[0;34m\u001b[0m\u001b[0;34m\u001b[0m\u001b[0m\n\u001b[1;32m      9\u001b[0m             \u001b[0mprint\u001b[0m\u001b[0;34m(\u001b[0m\u001b[0mstr\u001b[0m\u001b[0;34m(\u001b[0m\u001b[0me\u001b[0m\u001b[0;34m)\u001b[0m\u001b[0;34m)\u001b[0m\u001b[0;34m\u001b[0m\u001b[0;34m\u001b[0m\u001b[0m\n",
      "\u001b[0;32m<ipython-input-225-00485b4fbe7f>\u001b[0m in \u001b[0;36m<listcomp>\u001b[0;34m(.0)\u001b[0m\n\u001b[1;32m      5\u001b[0m         \u001b[0;32mtry\u001b[0m\u001b[0;34m:\u001b[0m\u001b[0;34m\u001b[0m\u001b[0;34m\u001b[0m\u001b[0m\n\u001b[1;32m      6\u001b[0m             \u001b[0;31m#Exception Shuld\u001b[0m\u001b[0;34m\u001b[0m\u001b[0;34m\u001b[0m\u001b[0;34m\u001b[0m\u001b[0m\n\u001b[0;32m----> 7\u001b[0;31m             \u001b[0macc\u001b[0m\u001b[0;34m+=\u001b[0m\u001b[0;34m[\u001b[0m \u001b[0mcalcPError\u001b[0m\u001b[0;34m(\u001b[0m\u001b[0malgo\u001b[0m\u001b[0;34m,\u001b[0m\u001b[0mimageGen\u001b[0m\u001b[0;34m,\u001b[0m\u001b[0mN\u001b[0m\u001b[0;34m,\u001b[0m\u001b[0mP\u001b[0m\u001b[0;34m)\u001b[0m \u001b[0;32mfor\u001b[0m \u001b[0m_\u001b[0m \u001b[0;32min\u001b[0m \u001b[0mrange\u001b[0m\u001b[0;34m(\u001b[0m\u001b[0;36m10\u001b[0m\u001b[0;34m)\u001b[0m \u001b[0;34m]\u001b[0m\u001b[0;34m\u001b[0m\u001b[0;34m\u001b[0m\u001b[0m\n\u001b[0m\u001b[1;32m      8\u001b[0m         \u001b[0;32mexcept\u001b[0m \u001b[0mExceededMaxIterations\u001b[0m \u001b[0;32mas\u001b[0m \u001b[0me\u001b[0m\u001b[0;34m:\u001b[0m\u001b[0;34m\u001b[0m\u001b[0;34m\u001b[0m\u001b[0m\n\u001b[1;32m      9\u001b[0m             \u001b[0mprint\u001b[0m\u001b[0;34m(\u001b[0m\u001b[0mstr\u001b[0m\u001b[0;34m(\u001b[0m\u001b[0me\u001b[0m\u001b[0;34m)\u001b[0m\u001b[0;34m)\u001b[0m\u001b[0;34m\u001b[0m\u001b[0;34m\u001b[0m\u001b[0m\n",
      "\u001b[0;32m<ipython-input-223-3c1d4e66d446>\u001b[0m in \u001b[0;36mcalcPError\u001b[0;34m(algo, imageGen, N, P)\u001b[0m\n\u001b[1;32m      2\u001b[0m     \u001b[0mImages\u001b[0m\u001b[0;34m=\u001b[0m\u001b[0mimageGen\u001b[0m\u001b[0;34m(\u001b[0m\u001b[0mN\u001b[0m\u001b[0;34m,\u001b[0m\u001b[0mP\u001b[0m\u001b[0;34m)\u001b[0m\u001b[0;34m\u001b[0m\u001b[0;34m\u001b[0m\u001b[0m\n\u001b[1;32m      3\u001b[0m     \u001b[0mW\u001b[0m\u001b[0;34m=\u001b[0m\u001b[0mCalculateWeights\u001b[0m\u001b[0;34m(\u001b[0m\u001b[0mImages\u001b[0m\u001b[0;34m)\u001b[0m\u001b[0;34m\u001b[0m\u001b[0;34m\u001b[0m\u001b[0m\n\u001b[0;32m----> 4\u001b[0;31m     \u001b[0;32mreturn\u001b[0m \u001b[0mnp\u001b[0m\u001b[0;34m.\u001b[0m\u001b[0msum\u001b[0m\u001b[0;34m(\u001b[0m\u001b[0;34m[\u001b[0m\u001b[0;34m(\u001b[0m\u001b[0malgo\u001b[0m\u001b[0;34m(\u001b[0m\u001b[0mimage\u001b[0m\u001b[0;34m,\u001b[0m\u001b[0mW\u001b[0m\u001b[0;34m,\u001b[0m\u001b[0mN\u001b[0m\u001b[0;34m,\u001b[0m\u001b[0;36m1\u001b[0m\u001b[0;34m)\u001b[0m \u001b[0;34m!=\u001b[0m \u001b[0mimage\u001b[0m \u001b[0;34m)\u001b[0m\u001b[0;34m.\u001b[0m\u001b[0mastype\u001b[0m\u001b[0;34m(\u001b[0m\u001b[0mnp\u001b[0m\u001b[0;34m.\u001b[0m\u001b[0mint32\u001b[0m\u001b[0;34m)\u001b[0m\u001b[0;34m.\u001b[0m\u001b[0msum\u001b[0m\u001b[0;34m(\u001b[0m\u001b[0;34m)\u001b[0m\u001b[0;34m/\u001b[0m\u001b[0mN\u001b[0m \u001b[0;32mfor\u001b[0m \u001b[0mimage\u001b[0m \u001b[0;32min\u001b[0m \u001b[0mImages\u001b[0m \u001b[0;34m]\u001b[0m\u001b[0;34m)\u001b[0m\u001b[0;34m/\u001b[0m\u001b[0mP\u001b[0m\u001b[0;34m\u001b[0m\u001b[0;34m\u001b[0m\u001b[0m\n\u001b[0m",
      "\u001b[0;32m<ipython-input-223-3c1d4e66d446>\u001b[0m in \u001b[0;36m<listcomp>\u001b[0;34m(.0)\u001b[0m\n\u001b[1;32m      2\u001b[0m     \u001b[0mImages\u001b[0m\u001b[0;34m=\u001b[0m\u001b[0mimageGen\u001b[0m\u001b[0;34m(\u001b[0m\u001b[0mN\u001b[0m\u001b[0;34m,\u001b[0m\u001b[0mP\u001b[0m\u001b[0;34m)\u001b[0m\u001b[0;34m\u001b[0m\u001b[0;34m\u001b[0m\u001b[0m\n\u001b[1;32m      3\u001b[0m     \u001b[0mW\u001b[0m\u001b[0;34m=\u001b[0m\u001b[0mCalculateWeights\u001b[0m\u001b[0;34m(\u001b[0m\u001b[0mImages\u001b[0m\u001b[0;34m)\u001b[0m\u001b[0;34m\u001b[0m\u001b[0;34m\u001b[0m\u001b[0m\n\u001b[0;32m----> 4\u001b[0;31m     \u001b[0;32mreturn\u001b[0m \u001b[0mnp\u001b[0m\u001b[0;34m.\u001b[0m\u001b[0msum\u001b[0m\u001b[0;34m(\u001b[0m\u001b[0;34m[\u001b[0m\u001b[0;34m(\u001b[0m\u001b[0malgo\u001b[0m\u001b[0;34m(\u001b[0m\u001b[0mimage\u001b[0m\u001b[0;34m,\u001b[0m\u001b[0mW\u001b[0m\u001b[0;34m,\u001b[0m\u001b[0mN\u001b[0m\u001b[0;34m,\u001b[0m\u001b[0;36m1\u001b[0m\u001b[0;34m)\u001b[0m \u001b[0;34m!=\u001b[0m \u001b[0mimage\u001b[0m \u001b[0;34m)\u001b[0m\u001b[0;34m.\u001b[0m\u001b[0mastype\u001b[0m\u001b[0;34m(\u001b[0m\u001b[0mnp\u001b[0m\u001b[0;34m.\u001b[0m\u001b[0mint32\u001b[0m\u001b[0;34m)\u001b[0m\u001b[0;34m.\u001b[0m\u001b[0msum\u001b[0m\u001b[0;34m(\u001b[0m\u001b[0;34m)\u001b[0m\u001b[0;34m/\u001b[0m\u001b[0mN\u001b[0m \u001b[0;32mfor\u001b[0m \u001b[0mimage\u001b[0m \u001b[0;32min\u001b[0m \u001b[0mImages\u001b[0m \u001b[0;34m]\u001b[0m\u001b[0;34m)\u001b[0m\u001b[0;34m/\u001b[0m\u001b[0mP\u001b[0m\u001b[0;34m\u001b[0m\u001b[0;34m\u001b[0m\u001b[0m\n\u001b[0m",
      "\u001b[0;32m<ipython-input-8-7fd7b36472a0>\u001b[0m in \u001b[0;36mhopfield\u001b[0;34m(seed, w, N, M)\u001b[0m\n\u001b[1;32m      8\u001b[0m             \u001b[0mhi\u001b[0m\u001b[0;34m=\u001b[0m\u001b[0msigno\u001b[0m\u001b[0;34m(\u001b[0m\u001b[0mw\u001b[0m\u001b[0;34m[\u001b[0m\u001b[0mi\u001b[0m\u001b[0;34m,\u001b[0m\u001b[0;34m:\u001b[0m\u001b[0;34m]\u001b[0m\u001b[0;34m.\u001b[0m\u001b[0mreshape\u001b[0m\u001b[0;34m(\u001b[0m\u001b[0;36m1\u001b[0m\u001b[0;34m,\u001b[0m\u001b[0;34m-\u001b[0m\u001b[0;36m1\u001b[0m\u001b[0;34m)\u001b[0m\u001b[0;34m.\u001b[0m\u001b[0mdot\u001b[0m\u001b[0;34m(\u001b[0m\u001b[0moutVal\u001b[0m\u001b[0;34m)\u001b[0m\u001b[0;34m)\u001b[0m\u001b[0;34m\u001b[0m\u001b[0;34m\u001b[0m\u001b[0m\n\u001b[1;32m      9\u001b[0m             \u001b[0mchanged\u001b[0m \u001b[0;34m|=\u001b[0m \u001b[0;34m(\u001b[0m\u001b[0mhi\u001b[0m \u001b[0;34m!=\u001b[0m \u001b[0moutVal\u001b[0m\u001b[0;34m[\u001b[0m\u001b[0mi\u001b[0m\u001b[0;34m]\u001b[0m\u001b[0;34m)\u001b[0m\u001b[0;34m\u001b[0m\u001b[0;34m\u001b[0m\u001b[0m\n\u001b[0;32m---> 10\u001b[0;31m             \u001b[0moutVal\u001b[0m\u001b[0;34m[\u001b[0m\u001b[0mi\u001b[0m\u001b[0;34m]\u001b[0m\u001b[0;34m=\u001b[0m\u001b[0mhi\u001b[0m\u001b[0;34m\u001b[0m\u001b[0;34m\u001b[0m\u001b[0m\n\u001b[0m\u001b[1;32m     11\u001b[0m     \u001b[0;31m#PlotImage(plt.gca(),outVal.reshape(N,M))\u001b[0m\u001b[0;34m\u001b[0m\u001b[0;34m\u001b[0m\u001b[0;34m\u001b[0m\u001b[0m\n\u001b[1;32m     12\u001b[0m     \u001b[0;32mreturn\u001b[0m \u001b[0moutVal\u001b[0m\u001b[0;34m\u001b[0m\u001b[0;34m\u001b[0m\u001b[0m\n",
      "\u001b[0;31mKeyboardInterrupt\u001b[0m: "
     ]
    }
   ],
   "source": [
    "corrCapacity=corrFillTable(hopfield, 30, np.arange(0,1,0.1))\n",
    "corrCapacity"
   ]
  },
  {
   "cell_type": "code",
   "execution_count": null,
   "metadata": {
    "scrolled": true
   },
   "outputs": [],
   "source": [
    "corrPlotCapacity(corrCapacity)"
   ]
  },
  {
   "cell_type": "code",
   "execution_count": 279,
   "metadata": {},
   "outputs": [
    {
     "name": "stdout",
     "output_type": "stream",
     "text": [
      "[array([[-1.],\n",
      "       [ 1.],\n",
      "       [ 1.],\n",
      "       [-1.],\n",
      "       [-1.],\n",
      "       [ 1.],\n",
      "       [ 1.],\n",
      "       [-1.],\n",
      "       [ 1.],\n",
      "       [-1.],\n",
      "       [ 1.],\n",
      "       [-1.],\n",
      "       [ 1.],\n",
      "       [ 1.],\n",
      "       [-1.],\n",
      "       [ 1.],\n",
      "       [ 1.],\n",
      "       [-1.],\n",
      "       [-1.],\n",
      "       [-1.],\n",
      "       [ 1.],\n",
      "       [-1.],\n",
      "       [ 1.],\n",
      "       [-1.],\n",
      "       [ 1.],\n",
      "       [ 1.],\n",
      "       [-1.],\n",
      "       [-1.],\n",
      "       [-1.],\n",
      "       [-1.]]), array([[-1.],\n",
      "       [ 1.],\n",
      "       [-1.],\n",
      "       [-1.],\n",
      "       [-1.],\n",
      "       [-1.],\n",
      "       [-1.],\n",
      "       [ 1.],\n",
      "       [ 1.],\n",
      "       [-1.],\n",
      "       [ 1.],\n",
      "       [-1.],\n",
      "       [-1.],\n",
      "       [-1.],\n",
      "       [ 1.],\n",
      "       [ 1.],\n",
      "       [-1.],\n",
      "       [ 1.],\n",
      "       [-1.],\n",
      "       [ 1.],\n",
      "       [ 1.],\n",
      "       [ 1.],\n",
      "       [-1.],\n",
      "       [ 1.],\n",
      "       [-1.],\n",
      "       [-1.],\n",
      "       [ 1.],\n",
      "       [-1.],\n",
      "       [ 1.],\n",
      "       [ 1.]]), array([[ 1.],\n",
      "       [ 1.],\n",
      "       [-1.],\n",
      "       [ 1.],\n",
      "       [-1.],\n",
      "       [-1.],\n",
      "       [-1.],\n",
      "       [-1.],\n",
      "       [ 1.],\n",
      "       [ 1.],\n",
      "       [ 1.],\n",
      "       [ 1.],\n",
      "       [ 1.],\n",
      "       [ 1.],\n",
      "       [ 1.],\n",
      "       [ 1.],\n",
      "       [-1.],\n",
      "       [ 1.],\n",
      "       [-1.],\n",
      "       [ 1.],\n",
      "       [-1.],\n",
      "       [-1.],\n",
      "       [ 1.],\n",
      "       [-1.],\n",
      "       [-1.],\n",
      "       [-1.],\n",
      "       [ 1.],\n",
      "       [ 1.],\n",
      "       [-1.],\n",
      "       [ 1.]])]\n",
      "0.0\n",
      "[[ nan  nan  nan ...,  nan  nan  nan]\n",
      " [ nan  nan  nan ...,  nan  nan  nan]\n",
      " [ nan  nan  nan ...,  nan  nan  nan]\n",
      " ..., \n",
      " [ nan  nan  nan ...,  nan  nan  nan]\n",
      " [ nan  nan  nan ...,  nan  nan  nan]\n",
      " [ nan  nan  nan ...,  nan  nan  nan]]\n",
      "[array([[ 1.],\n",
      "       [ 1.],\n",
      "       [ 1.],\n",
      "       [-1.],\n",
      "       [-1.],\n",
      "       [ 1.],\n",
      "       [-1.],\n",
      "       [ 1.],\n",
      "       [ 1.],\n",
      "       [ 1.],\n",
      "       [ 1.],\n",
      "       [-1.],\n",
      "       [ 1.],\n",
      "       [-1.],\n",
      "       [ 1.],\n",
      "       [ 1.],\n",
      "       [ 1.],\n",
      "       [ 1.],\n",
      "       [ 1.],\n",
      "       [-1.],\n",
      "       [-1.],\n",
      "       [-1.],\n",
      "       [ 1.],\n",
      "       [-1.],\n",
      "       [-1.],\n",
      "       [-1.],\n",
      "       [ 1.],\n",
      "       [-1.],\n",
      "       [ 1.],\n",
      "       [-1.]]), array([[ 1.],\n",
      "       [-1.],\n",
      "       [ 1.],\n",
      "       [-1.],\n",
      "       [-1.],\n",
      "       [-1.],\n",
      "       [-1.],\n",
      "       [-1.],\n",
      "       [ 1.],\n",
      "       [ 1.],\n",
      "       [-1.],\n",
      "       [ 1.],\n",
      "       [ 1.],\n",
      "       [-1.],\n",
      "       [-1.],\n",
      "       [ 1.],\n",
      "       [ 1.],\n",
      "       [ 1.],\n",
      "       [-1.],\n",
      "       [ 1.],\n",
      "       [ 1.],\n",
      "       [-1.],\n",
      "       [ 1.],\n",
      "       [ 1.],\n",
      "       [ 1.],\n",
      "       [-1.],\n",
      "       [-1.],\n",
      "       [-1.],\n",
      "       [-1.],\n",
      "       [ 1.]]), array([[ 1.],\n",
      "       [-1.],\n",
      "       [ 1.],\n",
      "       [ 1.],\n",
      "       [-1.],\n",
      "       [ 1.],\n",
      "       [ 1.],\n",
      "       [ 1.],\n",
      "       [-1.],\n",
      "       [ 1.],\n",
      "       [-1.],\n",
      "       [ 1.],\n",
      "       [ 1.],\n",
      "       [ 1.],\n",
      "       [-1.],\n",
      "       [-1.],\n",
      "       [-1.],\n",
      "       [ 1.],\n",
      "       [-1.],\n",
      "       [ 1.],\n",
      "       [-1.],\n",
      "       [-1.],\n",
      "       [ 1.],\n",
      "       [-1.],\n",
      "       [ 1.],\n",
      "       [ 1.],\n",
      "       [ 1.],\n",
      "       [-1.],\n",
      "       [ 1.],\n",
      "       [ 1.]])]\n",
      "0.1\n",
      "[[ nan  nan  nan ...,  nan  nan  nan]\n",
      " [ nan  nan  nan ...,  nan  nan  nan]\n",
      " [ nan  nan  nan ...,  nan  nan  nan]\n",
      " ..., \n",
      " [ nan  nan  nan ...,  nan  nan  nan]\n",
      " [ nan  nan  nan ...,  nan  nan  nan]\n",
      " [ nan  nan  nan ...,  nan  nan  nan]]\n",
      "[array([[ 1.],\n",
      "       [ 1.],\n",
      "       [ 1.],\n",
      "       [ 1.],\n",
      "       [ 1.],\n",
      "       [-1.],\n",
      "       [ 1.],\n",
      "       [ 1.],\n",
      "       [ 1.],\n",
      "       [ 1.],\n",
      "       [ 1.],\n",
      "       [ 1.],\n",
      "       [-1.],\n",
      "       [-1.],\n",
      "       [-1.],\n",
      "       [-1.],\n",
      "       [ 1.],\n",
      "       [-1.],\n",
      "       [ 1.],\n",
      "       [ 1.],\n",
      "       [-1.],\n",
      "       [-1.],\n",
      "       [ 1.],\n",
      "       [ 1.],\n",
      "       [-1.],\n",
      "       [ 1.],\n",
      "       [-1.],\n",
      "       [-1.],\n",
      "       [-1.],\n",
      "       [-1.]]), array([[-1.],\n",
      "       [ 1.],\n",
      "       [-1.],\n",
      "       [-1.],\n",
      "       [-1.],\n",
      "       [ 1.],\n",
      "       [ 1.],\n",
      "       [-1.],\n",
      "       [ 1.],\n",
      "       [ 1.],\n",
      "       [-1.],\n",
      "       [ 1.],\n",
      "       [ 1.],\n",
      "       [-1.],\n",
      "       [-1.],\n",
      "       [-1.],\n",
      "       [ 1.],\n",
      "       [-1.],\n",
      "       [ 1.],\n",
      "       [ 1.],\n",
      "       [ 1.],\n",
      "       [ 1.],\n",
      "       [-1.],\n",
      "       [-1.],\n",
      "       [ 1.],\n",
      "       [-1.],\n",
      "       [-1.],\n",
      "       [-1.],\n",
      "       [ 1.],\n",
      "       [-1.]]), array([[-1.],\n",
      "       [-1.],\n",
      "       [ 1.],\n",
      "       [-1.],\n",
      "       [-1.],\n",
      "       [-1.],\n",
      "       [ 1.],\n",
      "       [-1.],\n",
      "       [-1.],\n",
      "       [-1.],\n",
      "       [-1.],\n",
      "       [-1.],\n",
      "       [-1.],\n",
      "       [ 1.],\n",
      "       [-1.],\n",
      "       [-1.],\n",
      "       [ 1.],\n",
      "       [ 1.],\n",
      "       [ 1.],\n",
      "       [-1.],\n",
      "       [-1.],\n",
      "       [ 1.],\n",
      "       [-1.],\n",
      "       [-1.],\n",
      "       [-1.],\n",
      "       [ 1.],\n",
      "       [ 1.],\n",
      "       [-1.],\n",
      "       [ 1.],\n",
      "       [ 1.]])]\n",
      "0.2\n",
      "[[ nan  nan  nan ...,  nan  nan  nan]\n",
      " [ nan  nan  nan ...,  nan  nan  nan]\n",
      " [ nan  nan  nan ...,  nan  nan  nan]\n",
      " ..., \n",
      " [ nan  nan  nan ...,  nan  nan  nan]\n",
      " [ nan  nan  nan ...,  nan  nan  nan]\n",
      " [ nan  nan  nan ...,  nan  nan  nan]]\n",
      "[array([[ 1.],\n",
      "       [-1.],\n",
      "       [-1.],\n",
      "       [-1.],\n",
      "       [-1.],\n",
      "       [ 1.],\n",
      "       [-1.],\n",
      "       [ 1.],\n",
      "       [ 1.],\n",
      "       [-1.],\n",
      "       [-1.],\n",
      "       [ 1.],\n",
      "       [-1.],\n",
      "       [-1.],\n",
      "       [ 1.],\n",
      "       [ 1.],\n",
      "       [ 1.],\n",
      "       [-1.],\n",
      "       [ 1.],\n",
      "       [-1.],\n",
      "       [ 1.],\n",
      "       [ 1.],\n",
      "       [-1.],\n",
      "       [-1.],\n",
      "       [ 1.],\n",
      "       [ 1.],\n",
      "       [-1.],\n",
      "       [-1.],\n",
      "       [-1.],\n",
      "       [-1.]]), array([[ 1.],\n",
      "       [ 1.],\n",
      "       [-1.],\n",
      "       [ 1.],\n",
      "       [-1.],\n",
      "       [ 1.],\n",
      "       [ 1.],\n",
      "       [ 1.],\n",
      "       [ 1.],\n",
      "       [-1.],\n",
      "       [-1.],\n",
      "       [-1.],\n",
      "       [-1.],\n",
      "       [-1.],\n",
      "       [ 1.],\n",
      "       [-1.],\n",
      "       [ 1.],\n",
      "       [-1.],\n",
      "       [-1.],\n",
      "       [ 1.],\n",
      "       [-1.],\n",
      "       [ 1.],\n",
      "       [ 1.],\n",
      "       [ 1.],\n",
      "       [-1.],\n",
      "       [ 1.],\n",
      "       [ 1.],\n",
      "       [-1.],\n",
      "       [-1.],\n",
      "       [-1.]]), array([[ 1.],\n",
      "       [-1.],\n",
      "       [-1.],\n",
      "       [-1.],\n",
      "       [-1.],\n",
      "       [-1.],\n",
      "       [ 1.],\n",
      "       [ 1.],\n",
      "       [ 1.],\n",
      "       [-1.],\n",
      "       [-1.],\n",
      "       [ 1.],\n",
      "       [ 1.],\n",
      "       [ 1.],\n",
      "       [-1.],\n",
      "       [-1.],\n",
      "       [-1.],\n",
      "       [-1.],\n",
      "       [-1.],\n",
      "       [ 1.],\n",
      "       [-1.],\n",
      "       [-1.],\n",
      "       [-1.],\n",
      "       [-1.],\n",
      "       [-1.],\n",
      "       [-1.],\n",
      "       [-1.],\n",
      "       [ 1.],\n",
      "       [ 1.],\n",
      "       [ 1.]])]\n",
      "0.3\n",
      "[[ nan  nan  nan ...,  nan  nan  nan]\n",
      " [ nan  nan  nan ...,  nan  nan  nan]\n",
      " [ nan  nan  nan ...,  nan  nan  nan]\n",
      " ..., \n",
      " [ nan  nan  nan ...,  nan  nan  nan]\n",
      " [ nan  nan  nan ...,  nan  nan  nan]\n",
      " [ nan  nan  nan ...,  nan  nan  nan]]\n",
      "[array([[ 1.],\n",
      "       [ 1.],\n",
      "       [ 1.],\n",
      "       [-1.],\n",
      "       [-1.],\n",
      "       [ 1.],\n",
      "       [ 1.],\n",
      "       [-1.],\n",
      "       [-1.],\n",
      "       [-1.],\n",
      "       [ 1.],\n",
      "       [-1.],\n",
      "       [-1.],\n",
      "       [-1.],\n",
      "       [ 1.],\n",
      "       [ 1.],\n",
      "       [-1.],\n",
      "       [-1.],\n",
      "       [ 1.],\n",
      "       [-1.],\n",
      "       [-1.],\n",
      "       [-1.],\n",
      "       [-1.],\n",
      "       [-1.],\n",
      "       [-1.],\n",
      "       [ 1.],\n",
      "       [-1.],\n",
      "       [-1.],\n",
      "       [-1.],\n",
      "       [-1.]]), array([[ 1.],\n",
      "       [ 1.],\n",
      "       [ 1.],\n",
      "       [-1.],\n",
      "       [-1.],\n",
      "       [ 1.],\n",
      "       [ 1.],\n",
      "       [-1.],\n",
      "       [-1.],\n",
      "       [-1.],\n",
      "       [-1.],\n",
      "       [-1.],\n",
      "       [ 1.],\n",
      "       [-1.],\n",
      "       [ 1.],\n",
      "       [-1.],\n",
      "       [ 1.],\n",
      "       [ 1.],\n",
      "       [ 1.],\n",
      "       [-1.],\n",
      "       [ 1.],\n",
      "       [-1.],\n",
      "       [ 1.],\n",
      "       [-1.],\n",
      "       [ 1.],\n",
      "       [ 1.],\n",
      "       [ 1.],\n",
      "       [ 1.],\n",
      "       [-1.],\n",
      "       [-1.]]), array([[-1.],\n",
      "       [ 1.],\n",
      "       [ 1.],\n",
      "       [ 1.],\n",
      "       [-1.],\n",
      "       [ 1.],\n",
      "       [ 1.],\n",
      "       [ 1.],\n",
      "       [-1.],\n",
      "       [-1.],\n",
      "       [-1.],\n",
      "       [-1.],\n",
      "       [ 1.],\n",
      "       [ 1.],\n",
      "       [-1.],\n",
      "       [-1.],\n",
      "       [-1.],\n",
      "       [ 1.],\n",
      "       [ 1.],\n",
      "       [ 1.],\n",
      "       [-1.],\n",
      "       [ 1.],\n",
      "       [ 1.],\n",
      "       [-1.],\n",
      "       [-1.],\n",
      "       [-1.],\n",
      "       [ 1.],\n",
      "       [-1.],\n",
      "       [-1.],\n",
      "       [-1.]])]\n",
      "0.4\n",
      "[[ nan  nan  nan ...,  nan  nan  nan]\n",
      " [ nan  nan  nan ...,  nan  nan  nan]\n",
      " [ nan  nan  nan ...,  nan  nan  nan]\n",
      " ..., \n",
      " [ nan  nan  nan ...,  nan  nan  nan]\n",
      " [ nan  nan  nan ...,  nan  nan  nan]\n",
      " [ nan  nan  nan ...,  nan  nan  nan]]\n",
      "[array([[ 1.],\n",
      "       [ 1.],\n",
      "       [ 1.],\n",
      "       [-1.],\n",
      "       [ 1.],\n",
      "       [-1.],\n",
      "       [ 1.],\n",
      "       [ 1.],\n",
      "       [-1.],\n",
      "       [-1.],\n",
      "       [-1.],\n",
      "       [ 1.],\n",
      "       [ 1.],\n",
      "       [-1.],\n",
      "       [ 1.],\n",
      "       [ 1.],\n",
      "       [ 1.],\n",
      "       [ 1.],\n",
      "       [-1.],\n",
      "       [-1.],\n",
      "       [-1.],\n",
      "       [ 1.],\n",
      "       [ 1.],\n",
      "       [ 1.],\n",
      "       [ 1.],\n",
      "       [ 1.],\n",
      "       [ 1.],\n",
      "       [-1.],\n",
      "       [ 1.],\n",
      "       [ 1.]]), array([[ 1.],\n",
      "       [ 1.],\n",
      "       [ 1.],\n",
      "       [-1.],\n",
      "       [ 1.],\n",
      "       [-1.],\n",
      "       [ 1.],\n",
      "       [ 1.],\n",
      "       [ 1.],\n",
      "       [-1.],\n",
      "       [-1.],\n",
      "       [-1.],\n",
      "       [ 1.],\n",
      "       [ 1.],\n",
      "       [ 1.],\n",
      "       [ 1.],\n",
      "       [ 1.],\n",
      "       [ 1.],\n",
      "       [ 1.],\n",
      "       [-1.],\n",
      "       [-1.],\n",
      "       [-1.],\n",
      "       [-1.],\n",
      "       [-1.],\n",
      "       [-1.],\n",
      "       [-1.],\n",
      "       [-1.],\n",
      "       [-1.],\n",
      "       [-1.],\n",
      "       [ 1.]]), array([[ 1.],\n",
      "       [-1.],\n",
      "       [ 1.],\n",
      "       [-1.],\n",
      "       [-1.],\n",
      "       [-1.],\n",
      "       [ 1.],\n",
      "       [ 1.],\n",
      "       [-1.],\n",
      "       [-1.],\n",
      "       [-1.],\n",
      "       [-1.],\n",
      "       [ 1.],\n",
      "       [ 1.],\n",
      "       [ 1.],\n",
      "       [ 1.],\n",
      "       [ 1.],\n",
      "       [ 1.],\n",
      "       [-1.],\n",
      "       [-1.],\n",
      "       [-1.],\n",
      "       [ 1.],\n",
      "       [-1.],\n",
      "       [-1.],\n",
      "       [ 1.],\n",
      "       [ 1.],\n",
      "       [ 1.],\n",
      "       [ 1.],\n",
      "       [-1.],\n",
      "       [-1.]])]\n",
      "0.5\n",
      "[[ nan  nan  nan ...,  nan  nan  nan]\n",
      " [ nan  nan  nan ...,  nan  nan  nan]\n",
      " [ nan  nan  nan ...,  nan  nan  nan]\n",
      " ..., \n",
      " [ nan  nan  nan ...,  nan  nan  nan]\n",
      " [ nan  nan  nan ...,  nan  nan  nan]\n",
      " [ nan  nan  nan ...,  nan  nan  nan]]\n",
      "[array([[-1.],\n",
      "       [-1.],\n",
      "       [ 1.],\n",
      "       [ 1.],\n",
      "       [-1.],\n",
      "       [ 1.],\n",
      "       [-1.],\n",
      "       [ 1.],\n",
      "       [ 1.],\n",
      "       [ 1.],\n",
      "       [ 1.],\n",
      "       [-1.],\n",
      "       [ 1.],\n",
      "       [-1.],\n",
      "       [-1.],\n",
      "       [-1.],\n",
      "       [-1.],\n",
      "       [ 1.],\n",
      "       [-1.],\n",
      "       [-1.],\n",
      "       [-1.],\n",
      "       [-1.],\n",
      "       [-1.],\n",
      "       [ 1.],\n",
      "       [-1.],\n",
      "       [ 1.],\n",
      "       [ 1.],\n",
      "       [-1.],\n",
      "       [-1.],\n",
      "       [ 1.]]), array([[-1.],\n",
      "       [-1.],\n",
      "       [ 1.],\n",
      "       [-1.],\n",
      "       [-1.],\n",
      "       [ 1.],\n",
      "       [ 1.],\n",
      "       [ 1.],\n",
      "       [-1.],\n",
      "       [ 1.],\n",
      "       [ 1.],\n",
      "       [-1.],\n",
      "       [ 1.],\n",
      "       [-1.],\n",
      "       [-1.],\n",
      "       [ 1.],\n",
      "       [-1.],\n",
      "       [ 1.],\n",
      "       [-1.],\n",
      "       [ 1.],\n",
      "       [ 1.],\n",
      "       [-1.],\n",
      "       [ 1.],\n",
      "       [ 1.],\n",
      "       [-1.],\n",
      "       [-1.],\n",
      "       [ 1.],\n",
      "       [ 1.],\n",
      "       [-1.],\n",
      "       [-1.]]), array([[-1.],\n",
      "       [-1.],\n",
      "       [ 1.],\n",
      "       [-1.],\n",
      "       [ 1.],\n",
      "       [-1.],\n",
      "       [-1.],\n",
      "       [ 1.],\n",
      "       [-1.],\n",
      "       [ 1.],\n",
      "       [-1.],\n",
      "       [-1.],\n",
      "       [ 1.],\n",
      "       [ 1.],\n",
      "       [-1.],\n",
      "       [-1.],\n",
      "       [-1.],\n",
      "       [ 1.],\n",
      "       [-1.],\n",
      "       [-1.],\n",
      "       [ 1.],\n",
      "       [-1.],\n",
      "       [-1.],\n",
      "       [ 1.],\n",
      "       [-1.],\n",
      "       [ 1.],\n",
      "       [ 1.],\n",
      "       [ 1.],\n",
      "       [-1.],\n",
      "       [ 1.]])]\n",
      "0.6\n",
      "[[ nan  nan  nan ...,  nan  nan  nan]\n",
      " [ nan  nan  nan ...,  nan  nan  nan]\n",
      " [ nan  nan  nan ...,  nan  nan  nan]\n",
      " ..., \n",
      " [ nan  nan  nan ...,  nan  nan  nan]\n",
      " [ nan  nan  nan ...,  nan  nan  nan]\n",
      " [ nan  nan  nan ...,  nan  nan  nan]]\n",
      "[array([[-1.],\n",
      "       [-1.],\n",
      "       [-1.],\n",
      "       [-1.],\n",
      "       [-1.],\n",
      "       [-1.],\n",
      "       [-1.],\n",
      "       [ 1.],\n",
      "       [ 1.],\n",
      "       [-1.],\n",
      "       [-1.],\n",
      "       [-1.],\n",
      "       [-1.],\n",
      "       [ 1.],\n",
      "       [-1.],\n",
      "       [ 1.],\n",
      "       [ 1.],\n",
      "       [-1.],\n",
      "       [-1.],\n",
      "       [-1.],\n",
      "       [ 1.],\n",
      "       [ 1.],\n",
      "       [ 1.],\n",
      "       [ 1.],\n",
      "       [-1.],\n",
      "       [-1.],\n",
      "       [ 1.],\n",
      "       [ 1.],\n",
      "       [-1.],\n",
      "       [-1.]]), array([[-1.],\n",
      "       [-1.],\n",
      "       [-1.],\n",
      "       [-1.],\n",
      "       [-1.],\n",
      "       [-1.],\n",
      "       [ 1.],\n",
      "       [-1.],\n",
      "       [ 1.],\n",
      "       [-1.],\n",
      "       [ 1.],\n",
      "       [-1.],\n",
      "       [-1.],\n",
      "       [ 1.],\n",
      "       [-1.],\n",
      "       [-1.],\n",
      "       [-1.],\n",
      "       [-1.],\n",
      "       [-1.],\n",
      "       [-1.],\n",
      "       [ 1.],\n",
      "       [ 1.],\n",
      "       [-1.],\n",
      "       [-1.],\n",
      "       [-1.],\n",
      "       [ 1.],\n",
      "       [ 1.],\n",
      "       [ 1.],\n",
      "       [-1.],\n",
      "       [-1.]]), array([[-1.],\n",
      "       [-1.],\n",
      "       [-1.],\n",
      "       [-1.],\n",
      "       [ 1.],\n",
      "       [-1.],\n",
      "       [ 1.],\n",
      "       [-1.],\n",
      "       [ 1.],\n",
      "       [-1.],\n",
      "       [-1.],\n",
      "       [ 1.],\n",
      "       [-1.],\n",
      "       [ 1.],\n",
      "       [-1.],\n",
      "       [-1.],\n",
      "       [-1.],\n",
      "       [-1.],\n",
      "       [ 1.],\n",
      "       [-1.],\n",
      "       [ 1.],\n",
      "       [-1.],\n",
      "       [-1.],\n",
      "       [ 1.],\n",
      "       [-1.],\n",
      "       [-1.],\n",
      "       [-1.],\n",
      "       [-1.],\n",
      "       [ 1.],\n",
      "       [ 1.]])]\n",
      "0.7\n",
      "[[ nan  nan  nan ...,  nan  nan  nan]\n",
      " [ nan  nan  nan ...,  nan  nan  nan]\n",
      " [ nan  nan  nan ...,  nan  nan  nan]\n",
      " ..., \n",
      " [ nan  nan  nan ...,  nan  nan  nan]\n",
      " [ nan  nan  nan ...,  nan  nan  nan]\n",
      " [ nan  nan  nan ...,  nan  nan  nan]]\n"
     ]
    },
    {
     "name": "stderr",
     "output_type": "stream",
     "text": [
      "/usr/lib/python3/dist-packages/numpy/lib/function_base.py:3159: RuntimeWarning: Degrees of freedom <= 0 for slice\n",
      "  c = cov(x, y, rowvar)\n",
      "/usr/lib/python3/dist-packages/numpy/lib/function_base.py:3093: RuntimeWarning: divide by zero encountered in double_scalars\n",
      "  c *= 1. / np.float64(fact)\n",
      "/usr/lib/python3/dist-packages/numpy/lib/function_base.py:3093: RuntimeWarning: invalid value encountered in multiply\n",
      "  c *= 1. / np.float64(fact)\n"
     ]
    },
    {
     "name": "stdout",
     "output_type": "stream",
     "text": [
      "[array([[ 1.],\n",
      "       [-1.],\n",
      "       [-1.],\n",
      "       [ 1.],\n",
      "       [-1.],\n",
      "       [-1.],\n",
      "       [-1.],\n",
      "       [-1.],\n",
      "       [ 1.],\n",
      "       [-1.],\n",
      "       [-1.],\n",
      "       [-1.],\n",
      "       [-1.],\n",
      "       [-1.],\n",
      "       [-1.],\n",
      "       [ 1.],\n",
      "       [-1.],\n",
      "       [ 1.],\n",
      "       [-1.],\n",
      "       [-1.],\n",
      "       [-1.],\n",
      "       [ 1.],\n",
      "       [-1.],\n",
      "       [-1.],\n",
      "       [-1.],\n",
      "       [-1.],\n",
      "       [-1.],\n",
      "       [ 1.],\n",
      "       [ 1.],\n",
      "       [ 1.]]), array([[ 1.],\n",
      "       [-1.],\n",
      "       [-1.],\n",
      "       [ 1.],\n",
      "       [-1.],\n",
      "       [-1.],\n",
      "       [ 1.],\n",
      "       [-1.],\n",
      "       [ 1.],\n",
      "       [-1.],\n",
      "       [-1.],\n",
      "       [-1.],\n",
      "       [ 1.],\n",
      "       [-1.],\n",
      "       [-1.],\n",
      "       [ 1.],\n",
      "       [-1.],\n",
      "       [-1.],\n",
      "       [-1.],\n",
      "       [-1.],\n",
      "       [ 1.],\n",
      "       [-1.],\n",
      "       [-1.],\n",
      "       [ 1.],\n",
      "       [-1.],\n",
      "       [-1.],\n",
      "       [-1.],\n",
      "       [-1.],\n",
      "       [ 1.],\n",
      "       [ 1.]]), array([[-1.],\n",
      "       [-1.],\n",
      "       [-1.],\n",
      "       [ 1.],\n",
      "       [ 1.],\n",
      "       [-1.],\n",
      "       [-1.],\n",
      "       [-1.],\n",
      "       [ 1.],\n",
      "       [-1.],\n",
      "       [-1.],\n",
      "       [-1.],\n",
      "       [ 1.],\n",
      "       [ 1.],\n",
      "       [-1.],\n",
      "       [ 1.],\n",
      "       [-1.],\n",
      "       [-1.],\n",
      "       [-1.],\n",
      "       [-1.],\n",
      "       [-1.],\n",
      "       [-1.],\n",
      "       [-1.],\n",
      "       [-1.],\n",
      "       [-1.],\n",
      "       [ 1.],\n",
      "       [ 1.],\n",
      "       [-1.],\n",
      "       [-1.],\n",
      "       [-1.]])]\n",
      "0.8\n",
      "[[ nan  nan  nan ...,  nan  nan  nan]\n",
      " [ nan  nan  nan ...,  nan  nan  nan]\n",
      " [ nan  nan  nan ...,  nan  nan  nan]\n",
      " ..., \n",
      " [ nan  nan  nan ...,  nan  nan  nan]\n",
      " [ nan  nan  nan ...,  nan  nan  nan]\n",
      " [ nan  nan  nan ...,  nan  nan  nan]]\n",
      "[array([[ 1.],\n",
      "       [ 1.],\n",
      "       [ 1.],\n",
      "       [ 1.],\n",
      "       [-1.],\n",
      "       [ 1.],\n",
      "       [-1.],\n",
      "       [ 1.],\n",
      "       [ 1.],\n",
      "       [-1.],\n",
      "       [-1.],\n",
      "       [ 1.],\n",
      "       [ 1.],\n",
      "       [-1.],\n",
      "       [-1.],\n",
      "       [ 1.],\n",
      "       [-1.],\n",
      "       [-1.],\n",
      "       [-1.],\n",
      "       [ 1.],\n",
      "       [ 1.],\n",
      "       [ 1.],\n",
      "       [-1.],\n",
      "       [ 1.],\n",
      "       [ 1.],\n",
      "       [-1.],\n",
      "       [ 1.],\n",
      "       [ 1.],\n",
      "       [ 1.],\n",
      "       [ 1.]]), array([[ 1.],\n",
      "       [ 1.],\n",
      "       [ 1.],\n",
      "       [ 1.],\n",
      "       [ 1.],\n",
      "       [-1.],\n",
      "       [ 1.],\n",
      "       [ 1.],\n",
      "       [ 1.],\n",
      "       [ 1.],\n",
      "       [-1.],\n",
      "       [ 1.],\n",
      "       [ 1.],\n",
      "       [-1.],\n",
      "       [-1.],\n",
      "       [ 1.],\n",
      "       [-1.],\n",
      "       [-1.],\n",
      "       [ 1.],\n",
      "       [-1.],\n",
      "       [ 1.],\n",
      "       [ 1.],\n",
      "       [ 1.],\n",
      "       [-1.],\n",
      "       [-1.],\n",
      "       [ 1.],\n",
      "       [ 1.],\n",
      "       [-1.],\n",
      "       [-1.],\n",
      "       [-1.]]), array([[ 1.],\n",
      "       [-1.],\n",
      "       [-1.],\n",
      "       [-1.],\n",
      "       [-1.],\n",
      "       [-1.],\n",
      "       [ 1.],\n",
      "       [ 1.],\n",
      "       [ 1.],\n",
      "       [ 1.],\n",
      "       [-1.],\n",
      "       [ 1.],\n",
      "       [ 1.],\n",
      "       [-1.],\n",
      "       [-1.],\n",
      "       [ 1.],\n",
      "       [-1.],\n",
      "       [-1.],\n",
      "       [ 1.],\n",
      "       [ 1.],\n",
      "       [-1.],\n",
      "       [ 1.],\n",
      "       [-1.],\n",
      "       [ 1.],\n",
      "       [ 1.],\n",
      "       [ 1.],\n",
      "       [-1.],\n",
      "       [-1.],\n",
      "       [-1.],\n",
      "       [ 1.]])]\n",
      "0.9\n",
      "[[ nan  nan  nan ...,  nan  nan  nan]\n",
      " [ nan  nan  nan ...,  nan  nan  nan]\n",
      " [ nan  nan  nan ...,  nan  nan  nan]\n",
      " ..., \n",
      " [ nan  nan  nan ...,  nan  nan  nan]\n",
      " [ nan  nan  nan ...,  nan  nan  nan]\n",
      " [ nan  nan  nan ...,  nan  nan  nan]]\n"
     ]
    }
   ],
   "source": [
    "\n",
    "for ro in np.arange(0,1,0.1):\n",
    "    imgs = genCorrelatedImages(30,3, ro)\n",
    "    \n",
    "    print(imgs)\n",
    "    print(ro)\n",
    "    print(numpy.corrcoef(imgs[0],imgs[1]))\n",
    "        "
   ]
  },
  {
   "cell_type": "code",
   "execution_count": null,
   "metadata": {},
   "outputs": [],
   "source": []
  }
 ],
 "metadata": {
  "kernelspec": {
   "display_name": "Python 3",
   "language": "python",
   "name": "python3"
  },
  "language_info": {
   "codemirror_mode": {
    "name": "ipython",
    "version": 3
   },
   "file_extension": ".py",
   "mimetype": "text/x-python",
   "name": "python",
   "nbconvert_exporter": "python",
   "pygments_lexer": "ipython3",
   "version": "3.6.9"
  }
 },
 "nbformat": 4,
 "nbformat_minor": 2
}
