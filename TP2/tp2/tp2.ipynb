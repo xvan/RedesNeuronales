{
 "cells": [
  {
   "cell_type": "markdown",
   "metadata": {
    "pycharm": {
     "name": "#%% md\n"
    }
   },
   "source": [
    "# Trabajo Práctico 2"
   ]
  },
  {
   "cell_type": "code",
   "execution_count": 285,
   "outputs": [],
   "source": [
    " # To use the venv as jupyter kernel\n",
    " # python -m ipykernel install --user --name tp2 --display-name \"Python (tp2)\""
   ],
   "metadata": {
    "collapsed": false,
    "pycharm": {
     "name": "#%%\n"
    }
   }
  },
  {
   "cell_type": "code",
   "execution_count": 286,
   "metadata": {
    "pycharm": {
     "name": "#%%\n"
    }
   },
   "outputs": [],
   "source": [
    "import itertools\n",
    "import sys\n",
    "sys.path.append('src/')"
   ]
  },
  {
   "cell_type": "code",
   "execution_count": 287,
   "metadata": {
    "pycharm": {
     "name": "#%%\n"
    }
   },
   "outputs": [],
   "source": [
    "import importlib\n",
    "import numpy as np\n",
    "import numpy.matlib\n",
    "import matplotlib.pyplot as plt\n",
    "import pandas as pd\n",
    "import tp2\n",
    "from tp2.perceptron import ThresholdUnit, NonLinearUnit\n",
    "from tp2.multilayer import MultilayerNetwork, MultilayerTrainer\n",
    "import tp2.aux as tp2Aux\n",
    "import pickle"
   ]
  },
  {
   "cell_type": "code",
   "execution_count": 288,
   "metadata": {
    "pycharm": {
     "name": "#%%\n"
    }
   },
   "outputs": [
    {
     "data": {
      "text/plain": "<module 'tp2.aux' from '/home/jzuloaga/RedesNeuronales/TP2/tp2/src/tp2/aux.py'>"
     },
     "execution_count": 288,
     "metadata": {},
     "output_type": "execute_result"
    }
   ],
   "source": [
    "importlib.reload(tp2.perceptron)\n",
    "importlib.reload(tp2.multilayer)\n",
    "importlib.reload(tp2Aux)"
   ]
  },
  {
   "cell_type": "code",
   "execution_count": 289,
   "metadata": {
    "pycharm": {
     "name": "#%%\n"
    }
   },
   "outputs": [],
   "source": [
    "%matplotlib inline\n",
    "plt.rcParams['figure.figsize'] = (10.0, 10.0)"
   ]
  },
  {
   "cell_type": "markdown",
   "metadata": {
    "pycharm": {
     "name": "#%% md\n"
    }
   },
   "source": [
    "### 1. Implemente un perceptrón simple que aprenda la función lógica AND de 2 y de 4 entradas. Lo mismo para la función lógica OR. Para el caso de 2 dimensiones, grafique la recta discriminadora y todos los vectores de entrada de la red."
   ]
  },
  {
   "cell_type": "markdown",
   "metadata": {
    "pycharm": {
     "name": "#%% md\n"
    }
   },
   "source": [
    "#### AND de dos entradas"
   ]
  },
  {
   "cell_type": "markdown",
   "metadata": {
    "pycharm": {
     "name": "#%% md\n"
    }
   },
   "source": [
    "Tabla de entradas / salidas"
   ]
  },
  {
   "cell_type": "code",
   "execution_count": 290,
   "metadata": {
    "pycharm": {
     "name": "#%%\n"
    }
   },
   "outputs": [
    {
     "data": {
      "text/plain": "        y\nx1 x2    \n 1  1   1\n   -1  -1\n-1  1  -1\n   -1  -1",
      "text/html": "<div>\n<style scoped>\n    .dataframe tbody tr th:only-of-type {\n        vertical-align: middle;\n    }\n\n    .dataframe tbody tr th {\n        vertical-align: top;\n    }\n\n    .dataframe thead th {\n        text-align: right;\n    }\n</style>\n<table border=\"1\" class=\"dataframe\">\n  <thead>\n    <tr style=\"text-align: right;\">\n      <th></th>\n      <th></th>\n      <th>y</th>\n    </tr>\n    <tr>\n      <th>x1</th>\n      <th>x2</th>\n      <th></th>\n    </tr>\n  </thead>\n  <tbody>\n    <tr>\n      <th rowspan=\"2\" valign=\"top\">1</th>\n      <th>1</th>\n      <td>1</td>\n    </tr>\n    <tr>\n      <th>-1</th>\n      <td>-1</td>\n    </tr>\n    <tr>\n      <th rowspan=\"2\" valign=\"top\">-1</th>\n      <th>1</th>\n      <td>-1</td>\n    </tr>\n    <tr>\n      <th>-1</th>\n      <td>-1</td>\n    </tr>\n  </tbody>\n</table>\n</div>"
     },
     "execution_count": 290,
     "metadata": {},
     "output_type": "execute_result"
    }
   ],
   "source": [
    "and_truth_table = [\n",
    "        ((1, 1), [1]),\n",
    "        ((1, -1), [-1]),\n",
    "        ((-1, 1), [-1]),\n",
    "        ((-1, -1), [-1])\n",
    "    ]\n",
    "\n",
    "tp2Aux.train_data_to_df(and_truth_table)"
   ]
  },
  {
   "cell_type": "markdown",
   "metadata": {
    "pycharm": {
     "name": "#%% md\n"
    }
   },
   "source": [
    "Pesos tras el entrenamiento. El 0 corresponde al bias, modelado como una entrada constante $x_0 = -1$"
   ]
  },
  {
   "cell_type": "code",
   "execution_count": 291,
   "metadata": {
    "pycharm": {
     "name": "#%%\n"
    }
   },
   "outputs": [
    {
     "data": {
      "text/plain": "      w\nx      \n0  0.04\n1  1.00\n2  1.00",
      "text/html": "<div>\n<style scoped>\n    .dataframe tbody tr th:only-of-type {\n        vertical-align: middle;\n    }\n\n    .dataframe tbody tr th {\n        vertical-align: top;\n    }\n\n    .dataframe thead th {\n        text-align: right;\n    }\n</style>\n<table border=\"1\" class=\"dataframe\">\n  <thead>\n    <tr style=\"text-align: right;\">\n      <th></th>\n      <th>w</th>\n    </tr>\n    <tr>\n      <th>x</th>\n      <th></th>\n    </tr>\n  </thead>\n  <tbody>\n    <tr>\n      <th>0</th>\n      <td>0.04</td>\n    </tr>\n    <tr>\n      <th>1</th>\n      <td>1.00</td>\n    </tr>\n    <tr>\n      <th>2</th>\n      <td>1.00</td>\n    </tr>\n  </tbody>\n</table>\n</div>"
     },
     "execution_count": 291,
     "metadata": {},
     "output_type": "execute_result"
    }
   ],
   "source": [
    "tu_and=ThresholdUnit()\n",
    "tu_and.train(and_truth_table)\n",
    "tp2Aux.weights_to_df(tu_and)"
   ]
  },
  {
   "cell_type": "markdown",
   "metadata": {
    "pycharm": {
     "name": "#%% md\n"
    }
   },
   "source": [
    "La ecuación de la recta de decisión es $-w_0 + x_1 w_1 + x2_2 = 0$"
   ]
  },
  {
   "cell_type": "code",
   "execution_count": 292,
   "metadata": {
    "pycharm": {
     "name": "#%%\n"
    }
   },
   "outputs": [
    {
     "data": {
      "text/plain": "<Figure size 720x720 with 1 Axes>",
      "image/png": "[encoded data removed]"
     },
     "metadata": {
      "needs_background": "light"
     },
     "output_type": "display_data"
    }
   ],
   "source": [
    "tp2Aux.plot_2d_tu(tu_and)"
   ]
  },
  {
   "cell_type": "markdown",
   "metadata": {
    "pycharm": {
     "name": "#%% md\n"
    }
   },
   "source": [
    "#### OR de dos entradas"
   ]
  },
  {
   "cell_type": "markdown",
   "metadata": {
    "pycharm": {
     "name": "#%% md\n"
    }
   },
   "source": [
    "Tabla de entradas / salidas"
   ]
  },
  {
   "cell_type": "code",
   "execution_count": 293,
   "metadata": {
    "pycharm": {
     "name": "#%%\n"
    }
   },
   "outputs": [
    {
     "data": {
      "text/plain": "        y\nx1 x2    \n 1  1   1\n   -1   1\n-1  1   1\n   -1  -1",
      "text/html": "<div>\n<style scoped>\n    .dataframe tbody tr th:only-of-type {\n        vertical-align: middle;\n    }\n\n    .dataframe tbody tr th {\n        vertical-align: top;\n    }\n\n    .dataframe thead th {\n        text-align: right;\n    }\n</style>\n<table border=\"1\" class=\"dataframe\">\n  <thead>\n    <tr style=\"text-align: right;\">\n      <th></th>\n      <th></th>\n      <th>y</th>\n    </tr>\n    <tr>\n      <th>x1</th>\n      <th>x2</th>\n      <th></th>\n    </tr>\n  </thead>\n  <tbody>\n    <tr>\n      <th rowspan=\"2\" valign=\"top\">1</th>\n      <th>1</th>\n      <td>1</td>\n    </tr>\n    <tr>\n      <th>-1</th>\n      <td>1</td>\n    </tr>\n    <tr>\n      <th rowspan=\"2\" valign=\"top\">-1</th>\n      <th>1</th>\n      <td>1</td>\n    </tr>\n    <tr>\n      <th>-1</th>\n      <td>-1</td>\n    </tr>\n  </tbody>\n</table>\n</div>"
     },
     "execution_count": 293,
     "metadata": {},
     "output_type": "execute_result"
    }
   ],
   "source": [
    "or_truth_table = [\n",
    "        ((1, 1), [1]),\n",
    "        ((1, -1), [1]),\n",
    "        ((-1, 1), [1]),\n",
    "        ((-1, -1), [-1])\n",
    "    ]\n",
    "\n",
    "tp2Aux.train_data_to_df(or_truth_table)"
   ]
  },
  {
   "cell_type": "markdown",
   "metadata": {
    "pycharm": {
     "name": "#%% md\n"
    }
   },
   "source": [
    "Pesos tras el entrenamiento. El 0 corresponde al bias, modelado como una entrada constante $x_0 = -1$"
   ]
  },
  {
   "cell_type": "code",
   "execution_count": 294,
   "metadata": {
    "pycharm": {
     "name": "#%%\n"
    }
   },
   "outputs": [
    {
     "data": {
      "text/plain": "     w\nx     \n0  0.0\n1  1.0\n2  1.0",
      "text/html": "<div>\n<style scoped>\n    .dataframe tbody tr th:only-of-type {\n        vertical-align: middle;\n    }\n\n    .dataframe tbody tr th {\n        vertical-align: top;\n    }\n\n    .dataframe thead th {\n        text-align: right;\n    }\n</style>\n<table border=\"1\" class=\"dataframe\">\n  <thead>\n    <tr style=\"text-align: right;\">\n      <th></th>\n      <th>w</th>\n    </tr>\n    <tr>\n      <th>x</th>\n      <th></th>\n    </tr>\n  </thead>\n  <tbody>\n    <tr>\n      <th>0</th>\n      <td>0.0</td>\n    </tr>\n    <tr>\n      <th>1</th>\n      <td>1.0</td>\n    </tr>\n    <tr>\n      <th>2</th>\n      <td>1.0</td>\n    </tr>\n  </tbody>\n</table>\n</div>"
     },
     "execution_count": 294,
     "metadata": {},
     "output_type": "execute_result"
    }
   ],
   "source": [
    "tu_or=ThresholdUnit()\n",
    "tu_or.train(or_truth_table)\n",
    "tp2Aux.weights_to_df(tu_or)"
   ]
  },
  {
   "cell_type": "code",
   "execution_count": 295,
   "metadata": {
    "pycharm": {
     "name": "#%%\n"
    }
   },
   "outputs": [
    {
     "data": {
      "text/plain": "<Figure size 720x720 with 1 Axes>",
      "image/png": "[encoded data removed]"
     },
     "metadata": {
      "needs_background": "light"
     },
     "output_type": "display_data"
    }
   ],
   "source": [
    "tp2Aux.plot_2d_tu(tu_or)"
   ]
  },
  {
   "cell_type": "markdown",
   "metadata": {
    "pycharm": {
     "name": "#%% md\n"
    }
   },
   "source": [
    "#### AND de 4 entradas"
   ]
  },
  {
   "cell_type": "markdown",
   "metadata": {
    "pycharm": {
     "name": "#%% md\n"
    }
   },
   "source": [
    "Tabla de entradas / salidas"
   ]
  },
  {
   "cell_type": "code",
   "execution_count": 296,
   "metadata": {
    "pycharm": {
     "name": "#%%\n"
    }
   },
   "outputs": [
    {
     "data": {
      "text/plain": "              y\nx1 x2 x3 x4    \n 1  1  1  1   1\n         -1  -1\n      -1  1  -1\n         -1  -1\n   -1  1  1  -1\n         -1  -1\n      -1  1  -1\n         -1  -1\n-1  1  1  1  -1\n         -1  -1\n      -1  1  -1\n         -1  -1\n   -1  1  1  -1\n         -1  -1\n      -1  1  -1\n         -1  -1",
      "text/html": "<div>\n<style scoped>\n    .dataframe tbody tr th:only-of-type {\n        vertical-align: middle;\n    }\n\n    .dataframe tbody tr th {\n        vertical-align: top;\n    }\n\n    .dataframe thead th {\n        text-align: right;\n    }\n</style>\n<table border=\"1\" class=\"dataframe\">\n  <thead>\n    <tr style=\"text-align: right;\">\n      <th></th>\n      <th></th>\n      <th></th>\n      <th></th>\n      <th>y</th>\n    </tr>\n    <tr>\n      <th>x1</th>\n      <th>x2</th>\n      <th>x3</th>\n      <th>x4</th>\n      <th></th>\n    </tr>\n  </thead>\n  <tbody>\n    <tr>\n      <th rowspan=\"8\" valign=\"top\">1</th>\n      <th rowspan=\"4\" valign=\"top\">1</th>\n      <th rowspan=\"2\" valign=\"top\">1</th>\n      <th>1</th>\n      <td>1</td>\n    </tr>\n    <tr>\n      <th>-1</th>\n      <td>-1</td>\n    </tr>\n    <tr>\n      <th rowspan=\"2\" valign=\"top\">-1</th>\n      <th>1</th>\n      <td>-1</td>\n    </tr>\n    <tr>\n      <th>-1</th>\n      <td>-1</td>\n    </tr>\n    <tr>\n      <th rowspan=\"4\" valign=\"top\">-1</th>\n      <th rowspan=\"2\" valign=\"top\">1</th>\n      <th>1</th>\n      <td>-1</td>\n    </tr>\n    <tr>\n      <th>-1</th>\n      <td>-1</td>\n    </tr>\n    <tr>\n      <th rowspan=\"2\" valign=\"top\">-1</th>\n      <th>1</th>\n      <td>-1</td>\n    </tr>\n    <tr>\n      <th>-1</th>\n      <td>-1</td>\n    </tr>\n    <tr>\n      <th rowspan=\"8\" valign=\"top\">-1</th>\n      <th rowspan=\"4\" valign=\"top\">1</th>\n      <th rowspan=\"2\" valign=\"top\">1</th>\n      <th>1</th>\n      <td>-1</td>\n    </tr>\n    <tr>\n      <th>-1</th>\n      <td>-1</td>\n    </tr>\n    <tr>\n      <th rowspan=\"2\" valign=\"top\">-1</th>\n      <th>1</th>\n      <td>-1</td>\n    </tr>\n    <tr>\n      <th>-1</th>\n      <td>-1</td>\n    </tr>\n    <tr>\n      <th rowspan=\"4\" valign=\"top\">-1</th>\n      <th rowspan=\"2\" valign=\"top\">1</th>\n      <th>1</th>\n      <td>-1</td>\n    </tr>\n    <tr>\n      <th>-1</th>\n      <td>-1</td>\n    </tr>\n    <tr>\n      <th rowspan=\"2\" valign=\"top\">-1</th>\n      <th>1</th>\n      <td>-1</td>\n    </tr>\n    <tr>\n      <th>-1</th>\n      <td>-1</td>\n    </tr>\n  </tbody>\n</table>\n</div>"
     },
     "execution_count": 296,
     "metadata": {},
     "output_type": "execute_result"
    }
   ],
   "source": [
    "and4_truth_table = [\n",
    "    (( 1,  1,  1,  1), [ 1]),\n",
    "    (( 1,  1,  1, -1), [-1]),\n",
    "    (( 1,  1, -1,  1), [-1]),\n",
    "    (( 1,  1, -1, -1), [-1]),\n",
    "    (( 1, -1,  1,  1), [-1]),\n",
    "    (( 1, -1,  1, -1), [-1]),\n",
    "    (( 1, -1, -1,  1), [-1]),\n",
    "    (( 1, -1, -1, -1), [-1]),\n",
    "    ((-1,  1,  1,  1), [-1]),\n",
    "    ((-1,  1,  1, -1), [-1]),\n",
    "    ((-1,  1, -1,  1), [-1]),\n",
    "    ((-1,  1, -1, -1), [-1]),\n",
    "    ((-1, -1,  1,  1), [-1]),\n",
    "    ((-1, -1,  1, -1), [-1]),\n",
    "    ((-1, -1, -1,  1), [-1]),\n",
    "    ((-1, -1, -1, -1), [-1]),\n",
    "        \n",
    "    ]\n",
    "\n",
    "tp2Aux.train_data_to_df(and4_truth_table)"
   ]
  },
  {
   "cell_type": "markdown",
   "metadata": {
    "pycharm": {
     "name": "#%% md\n"
    }
   },
   "source": [
    "Pesos tras el entrenamiento. El 0 corresponde al bias, modelado como una entrada constante $x_0 = -1$"
   ]
  },
  {
   "cell_type": "code",
   "execution_count": 297,
   "metadata": {
    "pycharm": {
     "name": "#%%\n"
    }
   },
   "outputs": [
    {
     "data": {
      "text/plain": "      w\nx      \n0  1.04\n1  0.48\n2  0.48\n3  0.48\n4  0.48",
      "text/html": "<div>\n<style scoped>\n    .dataframe tbody tr th:only-of-type {\n        vertical-align: middle;\n    }\n\n    .dataframe tbody tr th {\n        vertical-align: top;\n    }\n\n    .dataframe thead th {\n        text-align: right;\n    }\n</style>\n<table border=\"1\" class=\"dataframe\">\n  <thead>\n    <tr style=\"text-align: right;\">\n      <th></th>\n      <th>w</th>\n    </tr>\n    <tr>\n      <th>x</th>\n      <th></th>\n    </tr>\n  </thead>\n  <tbody>\n    <tr>\n      <th>0</th>\n      <td>1.04</td>\n    </tr>\n    <tr>\n      <th>1</th>\n      <td>0.48</td>\n    </tr>\n    <tr>\n      <th>2</th>\n      <td>0.48</td>\n    </tr>\n    <tr>\n      <th>3</th>\n      <td>0.48</td>\n    </tr>\n    <tr>\n      <th>4</th>\n      <td>0.48</td>\n    </tr>\n  </tbody>\n</table>\n</div>"
     },
     "execution_count": 297,
     "metadata": {},
     "output_type": "execute_result"
    }
   ],
   "source": [
    "tu_and4=ThresholdUnit()\n",
    "tu_and4.train(and4_truth_table)\n",
    "tp2Aux.weights_to_df(tu_and4)"
   ]
  },
  {
   "cell_type": "markdown",
   "metadata": {
    "pycharm": {
     "name": "#%% md\n"
    }
   },
   "source": [
    "#### OR de 4 entradas"
   ]
  },
  {
   "cell_type": "code",
   "execution_count": 298,
   "metadata": {
    "pycharm": {
     "name": "#%%\n"
    }
   },
   "outputs": [
    {
     "data": {
      "text/plain": "              y\nx1 x2 x3 x4    \n 1  1  1  1   1\n         -1   1\n      -1  1   1\n         -1   1\n   -1  1  1   1\n         -1   1\n      -1  1   1\n         -1   1\n-1  1  1  1   1\n         -1   1\n      -1  1   1\n         -1   1\n   -1  1  1   1\n         -1   1\n      -1  1   1\n         -1  -1",
      "text/html": "<div>\n<style scoped>\n    .dataframe tbody tr th:only-of-type {\n        vertical-align: middle;\n    }\n\n    .dataframe tbody tr th {\n        vertical-align: top;\n    }\n\n    .dataframe thead th {\n        text-align: right;\n    }\n</style>\n<table border=\"1\" class=\"dataframe\">\n  <thead>\n    <tr style=\"text-align: right;\">\n      <th></th>\n      <th></th>\n      <th></th>\n      <th></th>\n      <th>y</th>\n    </tr>\n    <tr>\n      <th>x1</th>\n      <th>x2</th>\n      <th>x3</th>\n      <th>x4</th>\n      <th></th>\n    </tr>\n  </thead>\n  <tbody>\n    <tr>\n      <th rowspan=\"8\" valign=\"top\">1</th>\n      <th rowspan=\"4\" valign=\"top\">1</th>\n      <th rowspan=\"2\" valign=\"top\">1</th>\n      <th>1</th>\n      <td>1</td>\n    </tr>\n    <tr>\n      <th>-1</th>\n      <td>1</td>\n    </tr>\n    <tr>\n      <th rowspan=\"2\" valign=\"top\">-1</th>\n      <th>1</th>\n      <td>1</td>\n    </tr>\n    <tr>\n      <th>-1</th>\n      <td>1</td>\n    </tr>\n    <tr>\n      <th rowspan=\"4\" valign=\"top\">-1</th>\n      <th rowspan=\"2\" valign=\"top\">1</th>\n      <th>1</th>\n      <td>1</td>\n    </tr>\n    <tr>\n      <th>-1</th>\n      <td>1</td>\n    </tr>\n    <tr>\n      <th rowspan=\"2\" valign=\"top\">-1</th>\n      <th>1</th>\n      <td>1</td>\n    </tr>\n    <tr>\n      <th>-1</th>\n      <td>1</td>\n    </tr>\n    <tr>\n      <th rowspan=\"8\" valign=\"top\">-1</th>\n      <th rowspan=\"4\" valign=\"top\">1</th>\n      <th rowspan=\"2\" valign=\"top\">1</th>\n      <th>1</th>\n      <td>1</td>\n    </tr>\n    <tr>\n      <th>-1</th>\n      <td>1</td>\n    </tr>\n    <tr>\n      <th rowspan=\"2\" valign=\"top\">-1</th>\n      <th>1</th>\n      <td>1</td>\n    </tr>\n    <tr>\n      <th>-1</th>\n      <td>1</td>\n    </tr>\n    <tr>\n      <th rowspan=\"4\" valign=\"top\">-1</th>\n      <th rowspan=\"2\" valign=\"top\">1</th>\n      <th>1</th>\n      <td>1</td>\n    </tr>\n    <tr>\n      <th>-1</th>\n      <td>1</td>\n    </tr>\n    <tr>\n      <th rowspan=\"2\" valign=\"top\">-1</th>\n      <th>1</th>\n      <td>1</td>\n    </tr>\n    <tr>\n      <th>-1</th>\n      <td>-1</td>\n    </tr>\n  </tbody>\n</table>\n</div>"
     },
     "execution_count": 298,
     "metadata": {},
     "output_type": "execute_result"
    }
   ],
   "source": [
    "or4_truth_table = [\n",
    "    (( 1,  1,  1,  1), [ 1]),\n",
    "    (( 1,  1,  1, -1), [ 1]),\n",
    "    (( 1,  1, -1,  1), [ 1]),\n",
    "    (( 1,  1, -1, -1), [ 1]),\n",
    "    (( 1, -1,  1,  1), [ 1]),\n",
    "    (( 1, -1,  1, -1), [ 1]),\n",
    "    (( 1, -1, -1,  1), [ 1]),\n",
    "    (( 1, -1, -1, -1), [ 1]),\n",
    "    ((-1,  1,  1,  1), [ 1]),\n",
    "    ((-1,  1,  1, -1), [ 1]),\n",
    "    ((-1,  1, -1,  1), [ 1]),\n",
    "    ((-1,  1, -1, -1), [ 1]),\n",
    "    ((-1, -1,  1,  1), [ 1]),\n",
    "    ((-1, -1,  1, -1), [ 1]),\n",
    "    ((-1, -1, -1,  1), [ 1]),\n",
    "    ((-1, -1, -1, -1), [-1]),\n",
    "    ]\n",
    "\n",
    "tp2Aux.train_data_to_df(or4_truth_table)"
   ]
  },
  {
   "cell_type": "code",
   "execution_count": 299,
   "metadata": {
    "pycharm": {
     "name": "#%%\n"
    }
   },
   "outputs": [
    {
     "data": {
      "text/plain": "      w\nx      \n0 -1.04\n1  0.48\n2  0.52\n3  0.52\n4  0.48",
      "text/html": "<div>\n<style scoped>\n    .dataframe tbody tr th:only-of-type {\n        vertical-align: middle;\n    }\n\n    .dataframe tbody tr th {\n        vertical-align: top;\n    }\n\n    .dataframe thead th {\n        text-align: right;\n    }\n</style>\n<table border=\"1\" class=\"dataframe\">\n  <thead>\n    <tr style=\"text-align: right;\">\n      <th></th>\n      <th>w</th>\n    </tr>\n    <tr>\n      <th>x</th>\n      <th></th>\n    </tr>\n  </thead>\n  <tbody>\n    <tr>\n      <th>0</th>\n      <td>-1.04</td>\n    </tr>\n    <tr>\n      <th>1</th>\n      <td>0.48</td>\n    </tr>\n    <tr>\n      <th>2</th>\n      <td>0.52</td>\n    </tr>\n    <tr>\n      <th>3</th>\n      <td>0.52</td>\n    </tr>\n    <tr>\n      <th>4</th>\n      <td>0.48</td>\n    </tr>\n  </tbody>\n</table>\n</div>"
     },
     "execution_count": 299,
     "metadata": {},
     "output_type": "execute_result"
    }
   ],
   "source": [
    "tu_or4=ThresholdUnit()\n",
    "tu_or4.train(or4_truth_table)\n",
    "tp2Aux.weights_to_df(tu_or4)"
   ]
  },
  {
   "cell_type": "markdown",
   "metadata": {
    "pycharm": {
     "name": "#%% md\n"
    }
   },
   "source": [
    "### 2. Determine numéricamente cómo varia la capacidad del perceptrón simple en función del número de patrones enseñados."
   ]
  },
  {
   "cell_type": "markdown",
   "metadata": {
    "pycharm": {
     "name": "#%% md\n"
    }
   },
   "source": [
    "Se configuró una Threshold Unit (perceptron que utiliza la función signo) con $N = [1 .. 10]$ entradas.\n",
    "\n",
    "Para cada configuración, y se entrena con K pares de entrada/salida  $(\\mathbf{x}, y )$ aleatorios.\n",
    "\n",
    "$\\mathbf{x}$ es un vector de $N$ entradas aleatorias de distribución $U_{-1,1}$, $y$ una Bernoulli ${[-1,1]}$ con $P(\\frac{1}{2})$\n",
    "\n",
    "Mediante método de Montecarlo se estima la tasa de éxito de un entrenamiento de $K$ muestras aleatorias en un perceptrón de $N$ entradas, comenzando con $K=1$. El experimento se repite hasta obtener estimadores de la tasa de éxito con un error de $\\pm 0.02$ en un intervalo de confianza del $95\\%$\n",
    "\n",
    "Para el caso de $N=1$ el método se validó contra el análisis analítico de la tasa de éxito. Se encontró que para 1000 de iteraciones y velocidad de convergencia $\\eta=0.01$ seleccionados, el entrenamiento no encontraba solución a casos linealmente separables. Aún así se determinó que esos errores no modificaban considerablemente la salida del Montecarlo."
   ]
  },
  {
   "cell_type": "code",
   "execution_count": 300,
   "metadata": {
    "pycharm": {
     "name": "#%%\n"
    }
   },
   "outputs": [
    {
     "data": {
      "text/plain": "Text(0.5, 1.0, 'Capacidad de una Threshold Unit')"
     },
     "execution_count": 300,
     "metadata": {},
     "output_type": "execute_result"
    },
    {
     "data": {
      "text/plain": "<Figure size 720x720 with 1 Axes>",
      "image/png": "[encoded data removed]"
     },
     "metadata": {
      "needs_background": "light"
     },
     "output_type": "display_data"
    }
   ],
   "source": [
    "dfCap=pd.read_csv(\"data/capacity.csv\", usecols= lambda x: x in [\"dim\", \"pmax\", \"cap\"]).sort_values([\"dim\", \"pmax\"])\n",
    "\n",
    "for dim,dim_cap in dfCap.groupby(\"dim\"):\n",
    "    plt.plot( dim_cap[\"pmax\"]/dim_cap[\"dim\"], dim_cap[\"cap\"], label=int(dim))\n",
    "\n",
    "plt.xlabel(\"pmax/N\")\n",
    "plt.ylabel(\"capacity\")\n",
    "plt.legend(title=\"N\")\n",
    "plt.title(\"Capacidad de una Threshold Unit\")"
   ]
  },
  {
   "cell_type": "markdown",
   "metadata": {
    "pycharm": {
     "name": "#%% md\n"
    }
   },
   "source": [
    "Se observa que el ThresholdUnit tiene capacidad cercana a 1 para $\\frac{\\mathrm{pmax}}{N} \\lt 1.5$"
   ]
  },
  {
   "cell_type": "markdown",
   "metadata": {
    "pycharm": {
     "name": "#%% md\n"
    }
   },
   "source": [
    "### 3. a) Implemente un perceptrón multicapa que aprenda la función lógica XOR de 2 y de 4 entradas (utilizando el algoritmo Backpropagation)."
   ]
  },
  {
   "cell_type": "markdown",
   "metadata": {
    "pycharm": {
     "name": "#%% md\n"
    }
   },
   "source": [
    "Se comienza reimplementando el perceptrón simple utilizando Non Linear Units con $tanh$ como función de activación.\n",
    "Se optimizan los pesos aplicando gradiente descendente sobre la función consto $C$"
   ]
  },
  {
   "cell_type": "markdown",
   "metadata": {
    "pycharm": {
     "name": "#%% md\n"
    }
   },
   "source": [
    "$C = \\sum_k ( \\zeta_k - g(\\mathbf{w}^\\mathrm{T} \\cdot \\mathbf{x_k}) )^2$"
   ]
  },
  {
   "cell_type": "markdown",
   "metadata": {
    "pycharm": {
     "name": "#%% md\n"
    }
   },
   "source": [
    "$\\nabla C = \\sum_k 2 ( \\zeta_k - g(\\mathbf{w}^\\mathrm{T} \\cdot \\mathbf{x_k}))  g'(\\mathbf{w}^\\mathrm{T} \\cdot \\mathbf{x_k}) \\mathbf{x_k}$"
   ]
  },
  {
   "cell_type": "markdown",
   "source": [
    "Se ensaya el correcto funcionamiento de la Non Linear Unit aprendiendo la función OR"
   ],
   "metadata": {
    "collapsed": false,
    "pycharm": {
     "name": "#%% md\n"
    }
   }
  },
  {
   "cell_type": "code",
   "execution_count": 301,
   "metadata": {
    "pycharm": {
     "name": "#%%\n"
    }
   },
   "outputs": [
    {
     "name": "stdout",
     "output_type": "stream",
     "text": [
      "Best Cost: 0\n"
     ]
    },
    {
     "data": {
      "text/plain": "              y\nx1 x2          \n 1  1  0.999986\n   -1  0.962135\n-1  1  0.962135\n   -1 -0.962135",
      "text/html": "<div>\n<style scoped>\n    .dataframe tbody tr th:only-of-type {\n        vertical-align: middle;\n    }\n\n    .dataframe tbody tr th {\n        vertical-align: top;\n    }\n\n    .dataframe thead th {\n        text-align: right;\n    }\n</style>\n<table border=\"1\" class=\"dataframe\">\n  <thead>\n    <tr style=\"text-align: right;\">\n      <th></th>\n      <th></th>\n      <th>y</th>\n    </tr>\n    <tr>\n      <th>x1</th>\n      <th>x2</th>\n      <th></th>\n    </tr>\n  </thead>\n  <tbody>\n    <tr>\n      <th rowspan=\"2\" valign=\"top\">1</th>\n      <th>1</th>\n      <td>0.999986</td>\n    </tr>\n    <tr>\n      <th>-1</th>\n      <td>0.962135</td>\n    </tr>\n    <tr>\n      <th rowspan=\"2\" valign=\"top\">-1</th>\n      <th>1</th>\n      <td>0.962135</td>\n    </tr>\n    <tr>\n      <th>-1</th>\n      <td>-0.962135</td>\n    </tr>\n  </tbody>\n</table>\n</div>"
     },
     "execution_count": 301,
     "metadata": {},
     "output_type": "execute_result"
    }
   ],
   "source": [
    "nlu_or=NonLinearUnit()\n",
    "nlu_or.train(or_truth_table)\n",
    "tp2Aux.train_data_to_df([ (x,nlu_or.process(x)) for x,y in or_truth_table])"
   ]
  },
  {
   "cell_type": "markdown",
   "source": [
    "Se implementa una red multi capa en base a las non linear units. Los pesos se inicializan de manera aleatoria y se optimizan mediante gradiente descendiente y back-propagation. El algoritmo se detiene cuando no detecta mejoras significativas en la función costo.\n",
    "En caso de converger a un mínimo local, se reinicializa el algoritmo en otro punto."
   ],
   "metadata": {
    "collapsed": false,
    "pycharm": {
     "name": "#%% md\n"
    }
   }
  },
  {
   "cell_type": "markdown",
   "source": [
    "#### Función XOR de 2 compuertas"
   ],
   "metadata": {
    "collapsed": false,
    "pycharm": {
     "name": "#%% md\n"
    }
   }
  },
  {
   "cell_type": "code",
   "execution_count": 302,
   "outputs": [
    {
     "data": {
      "text/plain": "        y\nx1 x2    \n 1  1  -1\n   -1   1\n-1  1   1\n   -1  -1",
      "text/html": "<div>\n<style scoped>\n    .dataframe tbody tr th:only-of-type {\n        vertical-align: middle;\n    }\n\n    .dataframe tbody tr th {\n        vertical-align: top;\n    }\n\n    .dataframe thead th {\n        text-align: right;\n    }\n</style>\n<table border=\"1\" class=\"dataframe\">\n  <thead>\n    <tr style=\"text-align: right;\">\n      <th></th>\n      <th></th>\n      <th>y</th>\n    </tr>\n    <tr>\n      <th>x1</th>\n      <th>x2</th>\n      <th></th>\n    </tr>\n  </thead>\n  <tbody>\n    <tr>\n      <th rowspan=\"2\" valign=\"top\">1</th>\n      <th>1</th>\n      <td>-1</td>\n    </tr>\n    <tr>\n      <th>-1</th>\n      <td>1</td>\n    </tr>\n    <tr>\n      <th rowspan=\"2\" valign=\"top\">-1</th>\n      <th>1</th>\n      <td>1</td>\n    </tr>\n    <tr>\n      <th>-1</th>\n      <td>-1</td>\n    </tr>\n  </tbody>\n</table>\n</div>"
     },
     "execution_count": 302,
     "metadata": {},
     "output_type": "execute_result"
    }
   ],
   "source": [
    "xor_gate_table = [\n",
    "    ((1, 1), (-1,)),\n",
    "    ((1, -1), (1,)),\n",
    "    ((-1, 1), (1,)),\n",
    "    ((-1, -1), (-1,))\n",
    "]\n",
    "\n",
    "tp2Aux.train_data_to_df(xor_gate_table)"
   ],
   "metadata": {
    "collapsed": false,
    "pycharm": {
     "name": "#%%\n"
    }
   }
  },
  {
   "cell_type": "code",
   "execution_count": 303,
   "outputs": [
    {
     "data": {
      "text/plain": "              y\nx1 x2          \n 1  1 -0.971593\n   -1  0.960992\n-1  1  0.961458\n   -1 -0.971592",
      "text/html": "<div>\n<style scoped>\n    .dataframe tbody tr th:only-of-type {\n        vertical-align: middle;\n    }\n\n    .dataframe tbody tr th {\n        vertical-align: top;\n    }\n\n    .dataframe thead th {\n        text-align: right;\n    }\n</style>\n<table border=\"1\" class=\"dataframe\">\n  <thead>\n    <tr style=\"text-align: right;\">\n      <th></th>\n      <th></th>\n      <th>y</th>\n    </tr>\n    <tr>\n      <th>x1</th>\n      <th>x2</th>\n      <th></th>\n    </tr>\n  </thead>\n  <tbody>\n    <tr>\n      <th rowspan=\"2\" valign=\"top\">1</th>\n      <th>1</th>\n      <td>-0.971593</td>\n    </tr>\n    <tr>\n      <th>-1</th>\n      <td>0.960992</td>\n    </tr>\n    <tr>\n      <th rowspan=\"2\" valign=\"top\">-1</th>\n      <th>1</th>\n      <td>0.961458</td>\n    </tr>\n    <tr>\n      <th>-1</th>\n      <td>-0.971592</td>\n    </tr>\n  </tbody>\n</table>\n</div>"
     },
     "execution_count": 303,
     "metadata": {},
     "output_type": "execute_result"
    }
   ],
   "source": [
    "mn_xor2=MultilayerNetwork([2,2,1])\n",
    "trainer_xor2 = MultilayerTrainer(mn_xor2,xor_gate_table)\n",
    "xor2_costs=[]\n",
    "trainer_xor2.cost_callback = lambda x: xor2_costs.append(x)\n",
    "trainer_xor2.train()\n",
    "tp2Aux.train_data_to_df([ (x,mn_xor2.process(x)) for x,y in xor_gate_table])"
   ],
   "metadata": {
    "collapsed": false,
    "pycharm": {
     "name": "#%%\n"
    }
   }
  },
  {
   "cell_type": "markdown",
   "source": [
    "#### Función XOR de 4 compuertas"
   ],
   "metadata": {
    "collapsed": false,
    "pycharm": {
     "name": "#%% md\n"
    }
   }
  },
  {
   "cell_type": "code",
   "execution_count": 304,
   "outputs": [
    {
     "data": {
      "text/plain": "              y\nx1 x2 x3 x4    \n 1  1  1  1  -1\n         -1  -1\n      -1  1  -1\n         -1  -1\n   -1  1  1  -1\n         -1  -1\n      -1  1  -1\n         -1   1\n-1  1  1  1  -1\n         -1  -1\n      -1  1  -1\n         -1   1\n   -1  1  1  -1\n         -1   1\n      -1  1   1\n         -1  -1",
      "text/html": "<div>\n<style scoped>\n    .dataframe tbody tr th:only-of-type {\n        vertical-align: middle;\n    }\n\n    .dataframe tbody tr th {\n        vertical-align: top;\n    }\n\n    .dataframe thead th {\n        text-align: right;\n    }\n</style>\n<table border=\"1\" class=\"dataframe\">\n  <thead>\n    <tr style=\"text-align: right;\">\n      <th></th>\n      <th></th>\n      <th></th>\n      <th></th>\n      <th>y</th>\n    </tr>\n    <tr>\n      <th>x1</th>\n      <th>x2</th>\n      <th>x3</th>\n      <th>x4</th>\n      <th></th>\n    </tr>\n  </thead>\n  <tbody>\n    <tr>\n      <th rowspan=\"8\" valign=\"top\">1</th>\n      <th rowspan=\"4\" valign=\"top\">1</th>\n      <th rowspan=\"2\" valign=\"top\">1</th>\n      <th>1</th>\n      <td>-1</td>\n    </tr>\n    <tr>\n      <th>-1</th>\n      <td>-1</td>\n    </tr>\n    <tr>\n      <th rowspan=\"2\" valign=\"top\">-1</th>\n      <th>1</th>\n      <td>-1</td>\n    </tr>\n    <tr>\n      <th>-1</th>\n      <td>-1</td>\n    </tr>\n    <tr>\n      <th rowspan=\"4\" valign=\"top\">-1</th>\n      <th rowspan=\"2\" valign=\"top\">1</th>\n      <th>1</th>\n      <td>-1</td>\n    </tr>\n    <tr>\n      <th>-1</th>\n      <td>-1</td>\n    </tr>\n    <tr>\n      <th rowspan=\"2\" valign=\"top\">-1</th>\n      <th>1</th>\n      <td>-1</td>\n    </tr>\n    <tr>\n      <th>-1</th>\n      <td>1</td>\n    </tr>\n    <tr>\n      <th rowspan=\"8\" valign=\"top\">-1</th>\n      <th rowspan=\"4\" valign=\"top\">1</th>\n      <th rowspan=\"2\" valign=\"top\">1</th>\n      <th>1</th>\n      <td>-1</td>\n    </tr>\n    <tr>\n      <th>-1</th>\n      <td>-1</td>\n    </tr>\n    <tr>\n      <th rowspan=\"2\" valign=\"top\">-1</th>\n      <th>1</th>\n      <td>-1</td>\n    </tr>\n    <tr>\n      <th>-1</th>\n      <td>1</td>\n    </tr>\n    <tr>\n      <th rowspan=\"4\" valign=\"top\">-1</th>\n      <th rowspan=\"2\" valign=\"top\">1</th>\n      <th>1</th>\n      <td>-1</td>\n    </tr>\n    <tr>\n      <th>-1</th>\n      <td>1</td>\n    </tr>\n    <tr>\n      <th rowspan=\"2\" valign=\"top\">-1</th>\n      <th>1</th>\n      <td>1</td>\n    </tr>\n    <tr>\n      <th>-1</th>\n      <td>-1</td>\n    </tr>\n  </tbody>\n</table>\n</div>"
     },
     "execution_count": 304,
     "metadata": {},
     "output_type": "execute_result"
    }
   ],
   "source": [
    "large_xor_gate_table = [\n",
    "    (( 1,  1,  1,  1), (-1,)),\n",
    "    (( 1,  1,  1, -1), (-1,)),\n",
    "    (( 1,  1, -1,  1), (-1,)),\n",
    "    (( 1,  1, -1, -1), (-1,)),\n",
    "    (( 1, -1,  1,  1), (-1,)),\n",
    "    (( 1, -1,  1, -1), (-1,)),\n",
    "    (( 1, -1, -1,  1), (-1,)),\n",
    "    (( 1, -1, -1, -1), ( 1,)),\n",
    "    ((-1,  1,  1,  1), (-1,)),\n",
    "    ((-1,  1,  1, -1), (-1,)),\n",
    "    ((-1,  1, -1,  1), (-1,)),\n",
    "    ((-1,  1, -1, -1), ( 1,)),\n",
    "    ((-1, -1,  1,  1), (-1,)),\n",
    "    ((-1, -1,  1, -1), ( 1,)),\n",
    "    ((-1, -1, -1,  1), ( 1,)),\n",
    "    ((-1, -1, -1, -1), (-1,)),\n",
    "]\n",
    "\n",
    "tp2Aux.train_data_to_df(large_xor_gate_table)"
   ],
   "metadata": {
    "collapsed": false,
    "pycharm": {
     "name": "#%%\n"
    }
   }
  },
  {
   "cell_type": "code",
   "execution_count": null,
   "outputs": [],
   "source": [
    "nn_xor4=MultilayerNetwork([4,2,1])\n",
    "trainer_xor4 = MultilayerTrainer(nn_xor4,large_xor_gate_table)\n",
    "xor4_costs=[]\n",
    "trainer_xor4.cost_callback = lambda x: xor4_costs.append(x)\n",
    "trainer_xor4.train()\n",
    "tp2Aux.train_data_to_df([ (x,nn_xor4.process(x)) for x,y in large_xor_gate_table])"
   ],
   "metadata": {
    "collapsed": false,
    "pycharm": {
     "name": "#%%\n",
     "is_executing": true
    }
   }
  },
  {
   "cell_type": "markdown",
   "source": [
    "### 3. b) Muestre cómo evoluciona el error durante el entrenamiento."
   ],
   "metadata": {
    "collapsed": false,
    "pycharm": {
     "name": "#%% md\n"
    }
   }
  },
  {
   "cell_type": "code",
   "execution_count": null,
   "outputs": [],
   "source": [
    "plt.plot(xor2_costs)\n",
    "plt.yscale(\"log\")\n",
    "plt.xlabel(\"step\")\n",
    "plt.ylabel(\"cost\")\n",
    "plt.title(\"2 gates xor\")"
   ],
   "metadata": {
    "collapsed": false,
    "pycharm": {
     "name": "#%%\n",
     "is_executing": true
    }
   }
  },
  {
   "cell_type": "code",
   "execution_count": null,
   "outputs": [],
   "source": [
    "plt.plot(xor4_costs)\n",
    "plt.yscale(\"log\")\n",
    "plt.xlabel(\"step\")\n",
    "plt.ylabel(\"cost\")\n",
    "plt.title(\"4 gates xor\")"
   ],
   "metadata": {
    "collapsed": false,
    "pycharm": {
     "name": "#%%\n",
     "is_executing": true
    }
   }
  },
  {
   "cell_type": "markdown",
   "source": [
    "En la evolución del costo para la xor de 4 entradas se observa que el costo se estanca en mínimos locales y es necesario reiniciar el algoritmo.\n",
    "La búsqueda del mínimo se facilita si se expande de 2 a 5 neuronas la capa oculta."
   ],
   "metadata": {
    "collapsed": false,
    "pycharm": {
     "name": "#%% md\n"
    }
   }
  },
  {
   "cell_type": "code",
   "execution_count": null,
   "outputs": [],
   "source": [
    "mn_xor4_h5=MultilayerNetwork([4,5,1])\n",
    "trainer_xor4_h5 = MultilayerTrainer(mn_xor4_h5,large_xor_gate_table)\n",
    "xor4_costs_h5=[]\n",
    "trainer_xor4_h5.cost_callback = lambda x: xor4_costs_h5.append(x)\n",
    "trainer_xor4_h5.train()"
   ],
   "metadata": {
    "collapsed": false,
    "pycharm": {
     "name": "#%%\n",
     "is_executing": true
    }
   }
  },
  {
   "cell_type": "code",
   "execution_count": null,
   "outputs": [],
   "source": [
    "plt.plot(xor4_costs_h5)\n",
    "plt.yscale(\"log\")\n",
    "plt.xlabel(\"step\")\n",
    "plt.ylabel(\"cost\")\n",
    "plt.title(\"4 gates xor\")"
   ],
   "metadata": {
    "collapsed": false,
    "pycharm": {
     "name": "#%%\n",
     "is_executing": true
    }
   }
  },
  {
   "cell_type": "markdown",
   "source": [
    "### 3. c) Para una red entrenada en la función XOR de dos entradas, grafique el error en función de dos pesos cualesquiera de la red. De ejemplos de mínimos locales y mesetas."
   ],
   "metadata": {
    "collapsed": false,
    "pycharm": {
     "name": "#%% md\n"
    }
   }
  },
  {
   "cell_type": "code",
   "execution_count": null,
   "outputs": [],
   "source": [
    "tp2Aux.plot_all_cuts(trainer_xor2,xor_gate_table)"
   ],
   "metadata": {
    "collapsed": false,
    "pycharm": {
     "name": "#%%\n",
     "is_executing": true
    }
   }
  },
  {
   "cell_type": "code",
   "execution_count": null,
   "outputs": [],
   "source": [
    "\n"
   ],
   "metadata": {
    "collapsed": false,
    "pycharm": {
     "name": "#%%\n",
     "is_executing": true
    }
   }
  },
  {
   "cell_type": "markdown",
   "source": [
    "### 3. d) Idem (c) pero computando el error para cada patrón de entrada por separado."
   ],
   "metadata": {
    "collapsed": false,
    "pycharm": {
     "name": "#%% md\n"
    }
   }
  }
 ],
 "metadata": {
  "kernelspec": {
   "display_name": "Python (tp2)",
   "language": "python",
   "name": "tp2"
  },
  "language_info": {
   "codemirror_mode": {
    "name": "ipython",
    "version": 3
   },
   "file_extension": ".py",
   "mimetype": "text/x-python",
   "name": "python",
   "nbconvert_exporter": "python",
   "pygments_lexer": "ipython3",
   "version": "3.8.10"
  }
 },
 "nbformat": 4,
 "nbformat_minor": 1
}