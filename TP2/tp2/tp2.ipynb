{
 "cells": [
  {
   "cell_type": "markdown",
   "metadata": {
    "pycharm": {
     "name": "#%% md\n"
    }
   },
   "source": [
    "# Trabajo Práctico 2"
   ]
  },
  {
   "cell_type": "code",
   "execution_count": null,
   "outputs": [],
   "source": [
    "import importlib\n",
    "import numpy as np\n",
    "import numpy.matlib\n",
    "import matplotlib.pyplot as plt\n",
    "import pandas as pd\n",
    "import tp2\n",
    "from tp2.perceptron import ThresholdUnit, NonLinearUnit\n",
    "import tp2.aux as tp2Aux\n",
    "import pickle"
   ],
   "metadata": {
    "collapsed": false,
    "pycharm": {
     "name": "#%%\n"
    }
   }
  },
  {
   "cell_type": "code",
   "execution_count": null,
   "outputs": [],
   "source": [
    "importlib.reload(tp2.perceptron)\n",
    "importlib.reload(tp2Aux)"
   ],
   "metadata": {
    "collapsed": false,
    "pycharm": {
     "name": "#%%\n"
    }
   }
  },
  {
   "cell_type": "code",
   "execution_count": null,
   "outputs": [],
   "source": [
    "%matplotlib inline\n",
    "plt.rcParams['figure.figsize'] = (10.0, 10.0)"
   ],
   "metadata": {
    "collapsed": false,
    "pycharm": {
     "name": "#%%\n"
    }
   }
  },
  {
   "cell_type": "markdown",
   "source": [
    "### 1. Implemente un perceptrón simple que aprenda la función lógica AND de 2 y de 4 entradas. Lo mismo para la función lógica OR. Para el caso de 2 dimensiones, grafique la recta discriminadora y todos los vectores de entrada de la red."
   ],
   "metadata": {
    "collapsed": false,
    "pycharm": {
     "name": "#%% md\n"
    }
   }
  },
  {
   "cell_type": "markdown",
   "source": [
    "#### AND de dos entradas"
   ],
   "metadata": {
    "collapsed": false,
    "pycharm": {
     "name": "#%% md\n"
    }
   }
  },
  {
   "cell_type": "markdown",
   "source": [
    "Tabla de entradas / salidas"
   ],
   "metadata": {
    "collapsed": false,
    "pycharm": {
     "name": "#%% md\n"
    }
   }
  },
  {
   "cell_type": "code",
   "execution_count": null,
   "outputs": [],
   "source": [
    "and_truth_table = [\n",
    "        ((1, 1), [1]),\n",
    "        ((1, -1), [-1]),\n",
    "        ((-1, 1), [-1]),\n",
    "        ((-1, -1), [-1])\n",
    "    ]\n",
    "\n",
    "tp2Aux.train_data_to_df(and_truth_table)"
   ],
   "metadata": {
    "collapsed": false,
    "pycharm": {
     "name": "#%%\n"
    }
   }
  },
  {
   "cell_type": "markdown",
   "source": [
    "Pesos tras el entrenamiento. El 0 corresponde al bias, modelado como una entrada constante $x_0 = -1$"
   ],
   "metadata": {
    "collapsed": false,
    "pycharm": {
     "name": "#%% md\n"
    }
   }
  },
  {
   "cell_type": "code",
   "execution_count": null,
   "outputs": [],
   "source": [
    "tu_and=ThresholdUnit()\n",
    "tu_and.train(and_truth_table)\n",
    "tp2Aux.weights_to_df(tu_and)"
   ],
   "metadata": {
    "collapsed": false,
    "pycharm": {
     "name": "#%%\n"
    }
   }
  },
  {
   "cell_type": "markdown",
   "source": [
    "La ecuación de la recta de decisión es $-w_0 + x_1 w_1 + x2_2 = 0$"
   ],
   "metadata": {
    "collapsed": false,
    "pycharm": {
     "name": "#%% md\n"
    }
   }
  },
  {
   "cell_type": "code",
   "execution_count": null,
   "outputs": [],
   "source": [
    "tp2Aux.plot_2d_tu(tu_and)"
   ],
   "metadata": {
    "collapsed": false,
    "pycharm": {
     "name": "#%%\n"
    }
   }
  },
  {
   "cell_type": "markdown",
   "source": [
    "#### OR de dos entradas"
   ],
   "metadata": {
    "collapsed": false,
    "pycharm": {
     "name": "#%% md\n"
    }
   }
  },
  {
   "cell_type": "markdown",
   "source": [
    "Tabla de entradas / salidas"
   ],
   "metadata": {
    "collapsed": false,
    "pycharm": {
     "name": "#%% md\n"
    }
   }
  },
  {
   "cell_type": "code",
   "execution_count": null,
   "outputs": [],
   "source": [
    "or_truth_table = [\n",
    "        ((1, 1), [1]),\n",
    "        ((1, -1), [1]),\n",
    "        ((-1, 1), [1]),\n",
    "        ((-1, -1), [-1])\n",
    "    ]\n",
    "\n",
    "tp2Aux.train_data_to_df(or_truth_table)"
   ],
   "metadata": {
    "collapsed": false,
    "pycharm": {
     "name": "#%%\n"
    }
   }
  },
  {
   "cell_type": "markdown",
   "source": [
    "Pesos tras el entrenamiento. El 0 corresponde al bias, modelado como una entrada constante $x_0 = -1$"
   ],
   "metadata": {
    "collapsed": false,
    "pycharm": {
     "name": "#%% md\n"
    }
   }
  },
  {
   "cell_type": "code",
   "execution_count": null,
   "outputs": [],
   "source": [
    "tu_or=ThresholdUnit()\n",
    "tu_or.train(or_truth_table)\n",
    "tp2Aux.weights_to_df(tu_or)"
   ],
   "metadata": {
    "collapsed": false,
    "pycharm": {
     "name": "#%%\n"
    }
   }
  },
  {
   "cell_type": "code",
   "execution_count": null,
   "outputs": [],
   "source": [
    "tp2Aux.plot_2d_tu(tu_or)"
   ],
   "metadata": {
    "collapsed": false,
    "pycharm": {
     "name": "#%%\n"
    }
   }
  },
  {
   "cell_type": "markdown",
   "source": [
    "#### AND de 4 entradas"
   ],
   "metadata": {
    "collapsed": false,
    "pycharm": {
     "name": "#%% md\n"
    }
   }
  },
  {
   "cell_type": "markdown",
   "source": [
    "Tabla de entradas / salidas"
   ],
   "metadata": {
    "collapsed": false,
    "pycharm": {
     "name": "#%% md\n"
    }
   }
  },
  {
   "cell_type": "code",
   "execution_count": null,
   "outputs": [],
   "source": [
    "and4_truth_table = [\n",
    "    (( 1,  1,  1,  1), [ 1]),\n",
    "    (( 1,  1,  1, -1), [-1]),\n",
    "    (( 1,  1, -1,  1), [-1]),\n",
    "    (( 1,  1, -1, -1), [-1]),\n",
    "    (( 1, -1,  1,  1), [-1]),\n",
    "    (( 1, -1,  1, -1), [-1]),\n",
    "    (( 1, -1, -1,  1), [-1]),\n",
    "    (( 1, -1, -1, -1), [-1]),\n",
    "    ((-1,  1,  1,  1), [-1]),\n",
    "    ((-1,  1,  1, -1), [-1]),\n",
    "    ((-1,  1, -1,  1), [-1]),\n",
    "    ((-1,  1, -1, -1), [-1]),\n",
    "    ((-1, -1,  1,  1), [-1]),\n",
    "    ((-1, -1,  1, -1), [-1]),\n",
    "    ((-1, -1, -1,  1), [-1]),\n",
    "    ((-1, -1, -1, -1), [-1]),\n",
    "        \n",
    "    ]\n",
    "\n",
    "tp2Aux.train_data_to_df(and4_truth_table)"
   ],
   "metadata": {
    "collapsed": false,
    "pycharm": {
     "name": "#%%\n"
    }
   }
  },
  {
   "cell_type": "markdown",
   "source": [
    "Pesos tras el entrenamiento. El 0 corresponde al bias, modelado como una entrada constante $x_0 = -1$"
   ],
   "metadata": {
    "collapsed": false,
    "pycharm": {
     "name": "#%% md\n"
    }
   }
  },
  {
   "cell_type": "code",
   "execution_count": null,
   "outputs": [],
   "source": [
    "tu_and4=ThresholdUnit()\n",
    "tu_and4.train(and4_truth_table)\n",
    "tp2Aux.weights_to_df(tu_and4)"
   ],
   "metadata": {
    "collapsed": false,
    "pycharm": {
     "name": "#%%\n"
    }
   }
  },
  {
   "cell_type": "markdown",
   "source": [
    "#### OR de 4 entradas"
   ],
   "metadata": {
    "collapsed": false,
    "pycharm": {
     "name": "#%% md\n"
    }
   }
  },
  {
   "cell_type": "code",
   "execution_count": null,
   "outputs": [],
   "source": [
    "or4_truth_table = [\n",
    "    (( 1,  1,  1,  1), [ 1]),\n",
    "    (( 1,  1,  1, -1), [ 1]),\n",
    "    (( 1,  1, -1,  1), [ 1]),\n",
    "    (( 1,  1, -1, -1), [ 1]),\n",
    "    (( 1, -1,  1,  1), [ 1]),\n",
    "    (( 1, -1,  1, -1), [ 1]),\n",
    "    (( 1, -1, -1,  1), [ 1]),\n",
    "    (( 1, -1, -1, -1), [ 1]),\n",
    "    ((-1,  1,  1,  1), [ 1]),\n",
    "    ((-1,  1,  1, -1), [ 1]),\n",
    "    ((-1,  1, -1,  1), [ 1]),\n",
    "    ((-1,  1, -1, -1), [ 1]),\n",
    "    ((-1, -1,  1,  1), [ 1]),\n",
    "    ((-1, -1,  1, -1), [ 1]),\n",
    "    ((-1, -1, -1,  1), [ 1]),\n",
    "    ((-1, -1, -1, -1), [-1]),\n",
    "    ]\n",
    "\n",
    "tp2Aux.train_data_to_df(or4_truth_table)"
   ],
   "metadata": {
    "collapsed": false,
    "pycharm": {
     "name": "#%%\n"
    }
   }
  },
  {
   "cell_type": "code",
   "execution_count": null,
   "outputs": [],
   "source": [
    "tu_or4=ThresholdUnit()\n",
    "tu_or4.train(or4_truth_table)\n",
    "tp2Aux.weights_to_df(tu_or4)"
   ],
   "metadata": {
    "collapsed": false,
    "pycharm": {
     "name": "#%%\n"
    }
   }
  },
  {
   "cell_type": "markdown",
   "source": [
    "### 2. Determine numéricamente cómo varia la capacidad del perceptrón simple en función del número de patrones enseñados."
   ],
   "metadata": {
    "collapsed": false,
    "pycharm": {
     "name": "#%% md\n"
    }
   }
  },
  {
   "cell_type": "markdown",
   "source": [
    "Se configuró una Threshold Unit (perceptron que utiliza la función signo) con $N = [1 .. 10]$ entradas.\n",
    "\n",
    "Para cada configuración, y se entrena con K pares de entrada/salida  $(\\mathbf{x}, y )$ aleatorios.\n",
    "\n",
    "$\\mathbf{x}$ es un vector de $N$ entradas aleatorias de distribución $U_{-1,1}$, $y$ una Bernoulli ${[-1,1]}$ con $P(\\frac{1}{2})$\n",
    "\n",
    "Mediante método de Montecarlo se estima la tasa de éxito de un entrenamiento de $K$ muestras aleatorias en un perceptrón de $N$ entradas, comenzando con $K=1$. El experimento se repite hasta obtener estimadores de la tasa de éxito con un error de $\\pm 0.02$ en un intervalo de confianza del $95\\%$\n",
    "\n",
    "Para el caso de $N=1$ el método se validó contra el análisis analítico de la tasa de éxito. Se encontró que para 1000 de iteraciones y velocidad de convergencia $\\eta=0.01$ seleccionados, el entrenamiento no encontraba solución a casos linealmente separables. Aún así se determinó que esos errores no modificaban considerablemente la salida del Montecarlo."
   ],
   "metadata": {
    "collapsed": false,
    "pycharm": {
     "name": "#%% md\n"
    }
   }
  },
  {
   "cell_type": "code",
   "execution_count": null,
   "outputs": [],
   "source": [
    "dfCap=pd.read_csv(\"data/capacity.csv\", usecols= lambda x: x in [\"dim\", \"pmax\", \"cap\"]).sort_values([\"dim\", \"pmax\"])\n",
    "\n",
    "for dim,dim_cap in dfCap.groupby(\"dim\"):\n",
    "    plt.plot( dim_cap[\"pmax\"]/dim_cap[\"dim\"], dim_cap[\"cap\"], label=int(dim))\n",
    "\n",
    "plt.xlabel(\"pmax/N\")\n",
    "plt.ylabel(\"capacity\")\n",
    "plt.legend(title=\"N\")\n",
    "plt.title(\"Capacidad de una Threshold Unit\")"
   ],
   "metadata": {
    "collapsed": false,
    "pycharm": {
     "name": "#%%\n"
    }
   }
  },
  {
   "cell_type": "markdown",
   "source": [
    "Se observa que el ThresholdUnit tiene capacidad cercana a 1 para $\\frac{\\mathrm{pmax}}{N} \\lt 1.5$"
   ],
   "metadata": {
    "collapsed": false,
    "pycharm": {
     "name": "#%% md\n"
    }
   }
  },
  {
   "cell_type": "markdown",
   "source": [
    "### 3. a) Implemente un perceptrón multicapa que aprenda la función lógica XOR de 2 y de 4 entradas (utilizando el algoritmo Backpropagation)."
   ],
   "metadata": {
    "collapsed": false,
    "pycharm": {
     "name": "#%% md\n"
    }
   }
  },
  {
   "cell_type": "markdown",
   "source": [
    "Se comienza reimplementando el perceptrón simple utilizando Non Linear Units para poder aplicar método del gradiente descendente sobre la función consto $C$"
   ],
   "metadata": {
    "collapsed": false,
    "pycharm": {
     "name": "#%% md\n"
    }
   }
  },
  {
   "cell_type": "markdown",
   "source": [
    "$C = \\sum_k ( \\zeta_k - g(\\mathbf{w}^\\mathrm{T} \\cdot \\mathbf{x_k}) )^2$"
   ],
   "metadata": {
    "collapsed": false,
    "pycharm": {
     "name": "#%% md\n"
    }
   }
  },
  {
   "cell_type": "markdown",
   "source": [
    "$\\nabla C = \\sum_k 2 ( \\zeta_k - g(\\mathbf{w}^\\mathrm{T} \\cdot \\mathbf{x_k}))  g'(\\mathbf{w}^\\mathrm{T} \\cdot \\mathbf{x_k}) \\mathbf{x_k}$"
   ],
   "metadata": {
    "collapsed": false,
    "pycharm": {
     "name": "#%% md\n"
    }
   }
  },
  {
   "cell_type": "code",
   "execution_count": null,
   "outputs": [],
   "source": [
    "nlu_or=NonLinearUnit()\n",
    "nlu_or.train(or_truth_table)\n",
    "tp2Aux.weights_to_df(nlu_or)"
   ],
   "metadata": {
    "collapsed": false,
    "pycharm": {
     "name": "#%%\n"
    }
   }
  }
 ],
 "metadata": {
  "kernelspec": {
   "display_name": "Python 3",
   "language": "python",
   "name": "python3"
  },
  "language_info": {
   "codemirror_mode": {
    "name": "ipython",
    "version": 3
   },
   "file_extension": ".py",
   "mimetype": "text/x-python",
   "name": "python",
   "nbconvert_exporter": "python",
   "pygments_lexer": "ipython3",
   "version": "3.8.10"
  }
 },
 "nbformat": 4,
 "nbformat_minor": 1
}